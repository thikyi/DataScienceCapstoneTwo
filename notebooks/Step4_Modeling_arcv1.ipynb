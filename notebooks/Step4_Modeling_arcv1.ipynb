{
 "cells": [
  {
   "cell_type": "markdown",
   "id": "2d2400f4",
   "metadata": {},
   "source": [
    "# 4.Modeling"
   ]
  },
  {
   "cell_type": "markdown",
   "id": "f86ce37a",
   "metadata": {},
   "source": [
    "### 4.1.Import Libaries"
   ]
  },
  {
   "cell_type": "code",
   "execution_count": 1,
   "id": "f2972adb",
   "metadata": {},
   "outputs": [],
   "source": [
    "import pandas as pd\n",
    "import numpy as np\n",
    "import os\n",
    "import pickle\n",
    "import matplotlib.pyplot as plt\n",
    "import seaborn as sns\n",
    "from sklearn import __version__ as sklearn_version\n",
    "from sklearn.model_selection import cross_validate,cross_val_score, train_test_split, GridSearchCV, learning_curve\n",
    "from sklearn.decomposition import PCA\n",
    "from sklearn.dummy import DummyRegressor\n",
    "from sklearn.linear_model import LinearRegression\n",
    "from sklearn.feature_selection import SelectKBest, f_regression\n",
    "from sklearn.tree import DecisionTreeClassifier\n",
    "from sklearn.ensemble import RandomForestClassifier\n",
    "from sklearn.metrics import classification_report,confusion_matrix,ConfusionMatrixDisplay\n",
    "from sklearn.metrics import r2_score, mean_squared_error, mean_absolute_error,accuracy_score, recall_score, precision_score, f1_score\n",
    "from sklearn.pipeline import make_pipeline\n",
    "from sklearn.model_selection import RandomizedSearchCV\n",
    "from scipy.stats import randint\n",
    "from sklearn.impute import SimpleImputer\n",
    "from sklearn.preprocessing import StandardScaler\n",
    "import datetime\n"
   ]
  },
  {
   "cell_type": "markdown",
   "id": "0f9ec87f",
   "metadata": {},
   "source": [
    "### 4.2.Load Data( Test set and training set )"
   ]
  },
  {
   "cell_type": "code",
   "execution_count": 2,
   "id": "6e9f4045",
   "metadata": {},
   "outputs": [],
   "source": [
    "datafilepath = \"../data/interim/train_test_split.pkl\"\n",
    "\n",
    "with open(datafilepath, 'rb') as file:\n",
    "    X,y,X_train, X_test, y_train, y_test = pickle.load(file)"
   ]
  },
  {
   "cell_type": "markdown",
   "id": "7cccd984",
   "metadata": {},
   "source": [
    "### Initiation"
   ]
  },
  {
   "cell_type": "code",
   "execution_count": 3,
   "id": "51dd4970",
   "metadata": {},
   "outputs": [],
   "source": [
    "#Calculate the mean of `y_train`\n",
    "#train_mean = y_train.mean()\n",
    "#train_mean"
   ]
  },
  {
   "cell_type": "code",
   "execution_count": 4,
   "id": "3d2b27c0",
   "metadata": {},
   "outputs": [
    {
     "data": {
      "text/plain": [
       "VICT_AGE               0.014157\n",
       "latitude               0.014358\n",
       "longitude             -0.020706\n",
       "MTH_RPTD              -0.130399\n",
       "DAY_RPTD               0.019017\n",
       "YEAR_RPTD             -0.086864\n",
       "MTH_OCC               -0.132658\n",
       "DAY_OCC                0.027940\n",
       "YEAR_OCC              -0.082279\n",
       "WEEKDAY_OCC_Encoded    0.022243\n",
       "AREA_NAME_Encoded      0.021094\n",
       "dtype: float64"
      ]
     },
     "execution_count": 4,
     "metadata": {},
     "output_type": "execute_result"
    }
   ],
   "source": [
    "#Calculate the medium of `y_train`\n",
    "X_defaults_median = X_train.median()\n",
    "X_defaults_median"
   ]
  },
  {
   "cell_type": "markdown",
   "id": "9deafed9",
   "metadata": {},
   "source": [
    "##### Impute NaN Data"
   ]
  },
  {
   "cell_type": "code",
   "execution_count": 5,
   "id": "b170fc85",
   "metadata": {},
   "outputs": [],
   "source": [
    "# handling NaN values\n",
    "# Replace 'mean' with 'median', 'most_frequent', or a constant value if needed\n",
    "\n",
    "imputer = SimpleImputer(missing_values=np.nan, strategy='mean')\n",
    "X_train = imputer.fit_transform(X_train)"
   ]
  },
  {
   "cell_type": "code",
   "execution_count": 6,
   "id": "92bcfa4d",
   "metadata": {},
   "outputs": [
    {
     "name": "stdout",
     "output_type": "stream",
     "text": [
      "NaN values in X_test: 0\n",
      "Infinity values in X_test: 0\n"
     ]
    }
   ],
   "source": [
    "# Check for NaN values\n",
    "print(\"NaN values in X_test:\", X_test.isna().sum().sum())\n",
    "\n",
    "# Replace NaN values with the mean (you can choose other methods)\n",
    "X_test = X_test.fillna(X_test.mean())\n",
    "\n",
    "# Check for infinity values\n",
    "print(\"Infinity values in X_test:\", np.isinf(X_test).sum().sum())\n",
    "\n",
    "# Replace infinity values\n",
    "X_test = X_test.replace([np.inf, -np.inf], np.nan).fillna(X_test.mean())"
   ]
  },
  {
   "cell_type": "code",
   "execution_count": 7,
   "id": "f8c3b53a",
   "metadata": {
    "scrolled": true
   },
   "outputs": [
    {
     "data": {
      "text/plain": [
       "array([[ 0.01447232,  0.16498082, -0.06829201, ..., -1.34682972,\n",
       "         0.51540649,  1.50343   ],\n",
       "       [-1.27710816,  0.04991665, -0.05669428, ...,  0.92790868,\n",
       "        -0.96973575,  1.3387435 ],\n",
       "       [ 0.05900958, -0.08445359, -0.0170105 , ...,  1.68615482,\n",
       "         1.01045391, -1.6256135 ],\n",
       "       ...,\n",
       "       [-0.29728848,  0.14480598, -0.06826406, ...,  1.4334061 ,\n",
       "         0.02035908,  1.50343   ],\n",
       "       [-0.11913945, -0.04893042, -0.01455123, ...,  0.67515997,\n",
       "         1.01045391, -1.6256135 ],\n",
       "       [-0.34182574,  0.04518666, -0.02463985, ..., -1.59957843,\n",
       "         0.51540649, -0.6374945 ]])"
      ]
     },
     "execution_count": 7,
     "metadata": {},
     "output_type": "execute_result"
    }
   ],
   "source": [
    "# Normalize or Scale your data\n",
    "scaler = StandardScaler()\n",
    "X_test_scaled = scaler.fit_transform(X_test)\n",
    "X_test_scaled"
   ]
  },
  {
   "cell_type": "markdown",
   "id": "75ae8975",
   "metadata": {},
   "source": [
    "### 4.3.Models"
   ]
  },
  {
   "cell_type": "markdown",
   "id": "419562ce",
   "metadata": {},
   "source": [
    "Lets try different models. </br>\n",
    "Decision tree-based models with different criteria (Gini impurity and entropy) and Random forest classicification.</br>\n",
    "Besides , we will do modles evaulation with <b>Cross-Validation to Tune Hyperparameters</b></br>\n",
    "We will evaluate the models using <b>GridSearchCV</b> for an exhaustive search over specified parameter values."
   ]
  },
  {
   "cell_type": "markdown",
   "id": "cd1ccb8c",
   "metadata": {},
   "source": [
    "#### Decision Tree Classifier (gini)"
   ]
  },
  {
   "cell_type": "code",
   "execution_count": 8,
   "id": "f73364fb",
   "metadata": {},
   "outputs": [],
   "source": [
    "dt_gini_model = DecisionTreeClassifier(criterion='gini')\n",
    "dt_gini_model.fit(X_train, y_train)\n",
    "# Making predictions\n",
    "dt_gini_pred = dt_gini_model.predict(X_test)"
   ]
  },
  {
   "cell_type": "markdown",
   "id": "a74725a6",
   "metadata": {},
   "source": [
    "<b> Decision Tree Classifier (gini) :Evaluation</b></br>"
   ]
  },
  {
   "cell_type": "code",
   "execution_count": 10,
   "id": "0c54e737",
   "metadata": {},
   "outputs": [
    {
     "name": "stdout",
     "output_type": "stream",
     "text": [
      "Fitting 5 folds for each of 36 candidates, totalling 180 fits\n",
      "Best parameters found:  {'max_depth': 10, 'min_samples_leaf': 4, 'min_samples_split': 2}\n",
      "Best cross-validated score:  0.5055287457658577\n",
      "Accuracy: 0.5062850620153959\n",
      "Recall: 0.4772669704823146\n",
      "Precision: 0.5048952368060493\n",
      "F1 Score: 0.44327025457617764\n"
     ]
    },
    {
     "data": {
      "text/plain": [
       "array([[28842,  7273, 12694,   578,   502],\n",
       "       [ 9936, 12016,  9333,   411,  6612],\n",
       "       [14458,  7299, 18567,   352,   808],\n",
       "       [13941,  6484, 10857,  2238,  4275],\n",
       "       [   84,   176,    36,   292, 47447]])"
      ]
     },
     "execution_count": 10,
     "metadata": {},
     "output_type": "execute_result"
    }
   ],
   "source": [
    "# Define the parameter grid for the Decision Tree\n",
    "param_grid = {\n",
    "    'max_depth': [3, 5, 10, None],\n",
    "    'min_samples_split': [2, 5, 10],\n",
    "    'min_samples_leaf': [1, 2, 4]\n",
    "}\n",
    "\n",
    "# Create a GridSearchCV object\n",
    "dt_gini_grid_search = GridSearchCV(estimator=DecisionTreeClassifier(criterion='gini'), \n",
    "                                   param_grid=param_grid, \n",
    "                                   cv=5, \n",
    "                                   n_jobs=-1, \n",
    "                                   verbose=2)\n",
    "\n",
    "# Fit the grid search to the data\n",
    "dt_gini_grid_search.fit(X_train, y_train)\n",
    "\n",
    "# Print the best parameters and the corresponding score\n",
    "print(\"Best parameters found: \", dt_gini_grid_search.best_params_)\n",
    "print(\"Best cross-validated score: \", dt_gini_grid_search.best_score_)\n",
    "\n",
    "# Predict on the test set using the best found parameters\n",
    "dt_gini_best_pred = dt_gini_grid_search.best_estimator_.predict(X_test)\n",
    "\n",
    "print(\"Accuracy:\", accuracy_score(y_test, dt_gini_best_pred))\n",
    "print(\"Recall:\", recall_score(y_test, dt_gini_best_pred, average='macro'))\n",
    "print(\"Precision:\", precision_score(y_test, dt_gini_best_pred, average='macro'))\n",
    "print(\"F1 Score:\", f1_score(y_test, dt_gini_best_pred, average='macro'))\n",
    "\n",
    "\n",
    "dt_gini_cof = confusion_matrix(y_test, dt_gini_best_pred)\n",
    "dt_gini_cof"
   ]
  },
  {
   "cell_type": "markdown",
   "id": "ea09baa4",
   "metadata": {},
   "source": [
    "#### Decision Tree Classifier (entropy)"
   ]
  },
  {
   "cell_type": "code",
   "execution_count": 11,
   "id": "b101bf29",
   "metadata": {},
   "outputs": [],
   "source": [
    "dt_entropy_model = DecisionTreeClassifier(criterion='entropy')\n",
    "dt_entropy_model.fit(X_train, y_train)\n",
    "# Making predictions\n",
    "dt_en_pred = dt_entropy_model.predict(X_test)"
   ]
  },
  {
   "cell_type": "markdown",
   "id": "d03621f5",
   "metadata": {},
   "source": [
    "<b> Decision Tree Classifier (entropy) :Evaluation</b></br>"
   ]
  },
  {
   "cell_type": "code",
   "execution_count": 12,
   "id": "ca5c37ca",
   "metadata": {},
   "outputs": [
    {
     "name": "stdout",
     "output_type": "stream",
     "text": [
      "Fitting 5 folds for each of 36 candidates, totalling 180 fits\n",
      "Best parameters found for Decision Tree with entropy:  {'max_depth': 10, 'min_samples_leaf': 4, 'min_samples_split': 5}\n",
      "Best cross-validated score for Decision Tree with entropy:  0.5061795276321285\n",
      "Accuracy: 0.504136679798247\n",
      "Recall: 0.4756796554958266\n",
      "Precision: 0.509903276960326\n",
      "F1 Score: 0.44064012889138826\n"
     ]
    },
    {
     "data": {
      "text/plain": [
       "array([[28005,  8173, 12722,   468,   521],\n",
       "       [10095, 12437,  8704,   295,  6777],\n",
       "       [13817,  8027, 18530,   281,   829],\n",
       "       [13476,  7530, 10379,  2052,  4358],\n",
       "       [   80,    73,    37,   222, 47623]])"
      ]
     },
     "execution_count": 12,
     "metadata": {},
     "output_type": "execute_result"
    }
   ],
   "source": [
    "\n",
    "# Define the parameter grid for Decision Tree with entropy\n",
    "param_grid_dt_entropy = {\n",
    "    'max_depth': [3, 5, 10, None],\n",
    "    'min_samples_split': [2, 5, 10],\n",
    "    'min_samples_leaf': [1, 2, 4]\n",
    "}\n",
    "\n",
    "# Create a GridSearchCV object for Decision Tree with entropy\n",
    "dt_entropy_grid_search = GridSearchCV(estimator=DecisionTreeClassifier(criterion='entropy'), \n",
    "                                      param_grid=param_grid_dt_entropy, \n",
    "                                      cv=5, \n",
    "                                      n_jobs=-1, \n",
    "                                      verbose=2)\n",
    "\n",
    "# Fit the grid search to the data\n",
    "dt_entropy_grid_search.fit(X_train, y_train)\n",
    "\n",
    "# Print the best parameters and the corresponding score\n",
    "print(\"Best parameters found for Decision Tree with entropy: \", dt_entropy_grid_search.best_params_)\n",
    "print(\"Best cross-validated score for Decision Tree with entropy: \", dt_entropy_grid_search.best_score_)\n",
    "\n",
    "# Evaluate the predictions\n",
    "dt_entropy_best_pred = dt_entropy_grid_search.best_estimator_.predict(X_test)\n",
    "\n",
    "\n",
    "print(\"Accuracy:\", accuracy_score(y_test, dt_entropy_best_pred))\n",
    "print(\"Recall:\", recall_score(y_test, dt_entropy_best_pred, average='macro'))\n",
    "print(\"Precision:\", precision_score(y_test, dt_entropy_best_pred, average='macro'))\n",
    "print(\"F1 Score:\", f1_score(y_test, dt_entropy_best_pred, average='macro'))\n",
    "\n",
    "\n",
    "dt_en_cof = confusion_matrix(y_test, dt_entropy_best_pred)\n",
    "dt_en_cof"
   ]
  },
  {
   "cell_type": "markdown",
   "id": "587b4036",
   "metadata": {},
   "source": [
    "#### Random Forest"
   ]
  },
  {
   "cell_type": "code",
   "execution_count": 15,
   "id": "2a5ae916",
   "metadata": {},
   "outputs": [],
   "source": [
    "rf_model = RandomForestClassifier(n_estimators=100)\n",
    "rf_model.fit(X_train, y_train)\n",
    "# Making predictions\n",
    "rf_pred = rf_model.predict(X_test)"
   ]
  },
  {
   "cell_type": "markdown",
   "id": "b1df8e3c",
   "metadata": {},
   "source": [
    "<b> Random Forest:Evaluation</b></br>"
   ]
  },
  {
   "cell_type": "code",
   "execution_count": 17,
   "id": "d04319e4",
   "metadata": {},
   "outputs": [
    {
     "name": "stdout",
     "output_type": "stream",
     "text": [
      "Fitting 5 folds for each of 16 candidates, totalling 80 fits\n",
      "[CV] END max_depth=None, max_features=sqrt, min_samples_leaf=1, min_samples_split=2, n_estimators=100; total time= 8.5min\n",
      "[CV] END max_depth=None, max_features=sqrt, min_samples_leaf=1, min_samples_split=5, n_estimators=100; total time= 4.2min\n",
      "[CV] END max_depth=None, max_features=sqrt, min_samples_leaf=1, min_samples_split=5, n_estimators=100; total time=10.2min\n",
      "[CV] END max_depth=None, max_features=sqrt, min_samples_leaf=1, min_samples_split=5, n_estimators=200; total time=14.7min\n",
      "[CV] END max_depth=None, max_features=sqrt, min_samples_leaf=2, min_samples_split=5, n_estimators=100; total time= 5.5min\n",
      "[CV] END max_depth=None, max_features=sqrt, min_samples_leaf=2, min_samples_split=5, n_estimators=100; total time= 4.0min\n",
      "[CV] END max_depth=10, max_features=sqrt, min_samples_leaf=1, min_samples_split=2, n_estimators=100; total time= 2.2min\n",
      "[CV] END max_depth=10, max_features=sqrt, min_samples_leaf=1, min_samples_split=2, n_estimators=200; total time= 5.0min\n"
     ]
    },
    {
     "name": "stderr",
     "output_type": "stream",
     "text": [
      "/Users/thantthiri/opt/anaconda3/lib/python3.9/site-packages/joblib/externals/loky/process_executor.py:702: UserWarning: A worker stopped while some jobs were given to the executor. This can be caused by a too short worker timeout or by a memory leak.\n",
      "  warnings.warn(\n"
     ]
    },
    {
     "name": "stdout",
     "output_type": "stream",
     "text": [
      "[CV] END max_depth=None, max_features=sqrt, min_samples_leaf=1, min_samples_split=2, n_estimators=100; total time= 8.5min\n",
      "[CV] END max_depth=None, max_features=sqrt, min_samples_leaf=1, min_samples_split=5, n_estimators=100; total time= 4.2min\n",
      "[CV] END max_depth=None, max_features=sqrt, min_samples_leaf=1, min_samples_split=5, n_estimators=100; total time=10.2min\n",
      "[CV] END max_depth=None, max_features=sqrt, min_samples_leaf=2, min_samples_split=2, n_estimators=100; total time= 7.1min\n",
      "[CV] END max_depth=None, max_features=sqrt, min_samples_leaf=2, min_samples_split=2, n_estimators=200; total time=13.1min\n",
      "[CV] END max_depth=None, max_features=sqrt, min_samples_leaf=2, min_samples_split=5, n_estimators=200; total time= 8.5min\n",
      "[CV] END max_depth=10, max_features=sqrt, min_samples_leaf=1, min_samples_split=5, n_estimators=100; total time= 2.6min\n",
      "[CV] END max_depth=None, max_features=sqrt, min_samples_leaf=1, min_samples_split=2, n_estimators=200; total time=12.8min\n",
      "[CV] END max_depth=None, max_features=sqrt, min_samples_leaf=1, min_samples_split=5, n_estimators=200; total time=17.2min\n",
      "[CV] END max_depth=None, max_features=sqrt, min_samples_leaf=2, min_samples_split=2, n_estimators=200; total time=13.2min\n",
      "[CV] END max_depth=None, max_features=sqrt, min_samples_leaf=2, min_samples_split=5, n_estimators=200; total time= 8.5min\n",
      "[CV] END max_depth=10, max_features=sqrt, min_samples_leaf=1, min_samples_split=5, n_estimators=100; total time= 2.6min\n",
      "[CV] END max_depth=None, max_features=sqrt, min_samples_leaf=1, min_samples_split=2, n_estimators=100; total time= 8.5min\n",
      "[CV] END max_depth=None, max_features=sqrt, min_samples_leaf=1, min_samples_split=2, n_estimators=200; total time=14.8min\n",
      "[CV] END max_depth=None, max_features=sqrt, min_samples_leaf=2, min_samples_split=2, n_estimators=100; total time= 7.2min\n",
      "[CV] END max_depth=None, max_features=sqrt, min_samples_leaf=2, min_samples_split=2, n_estimators=200; total time=12.8min\n",
      "[CV] END max_depth=None, max_features=sqrt, min_samples_leaf=2, min_samples_split=5, n_estimators=200; total time= 8.5min\n",
      "[CV] END max_depth=10, max_features=sqrt, min_samples_leaf=1, min_samples_split=5, n_estimators=100; total time= 2.6min\n",
      "[CV] END max_depth=None, max_features=sqrt, min_samples_leaf=1, min_samples_split=2, n_estimators=200; total time=12.8min\n",
      "[CV] END max_depth=None, max_features=sqrt, min_samples_leaf=1, min_samples_split=5, n_estimators=200; total time=17.2min\n",
      "[CV] END max_depth=None, max_features=sqrt, min_samples_leaf=2, min_samples_split=2, n_estimators=100; total time= 7.5min\n",
      "[CV] END max_depth=None, max_features=sqrt, min_samples_leaf=2, min_samples_split=5, n_estimators=100; total time= 5.5min\n",
      "[CV] END max_depth=None, max_features=sqrt, min_samples_leaf=2, min_samples_split=5, n_estimators=200; total time= 8.5min\n",
      "[CV] END max_depth=10, max_features=sqrt, min_samples_leaf=1, min_samples_split=2, n_estimators=200; total time=10.5min\n",
      "[CV] END max_depth=None, max_features=sqrt, min_samples_leaf=1, min_samples_split=2, n_estimators=100; total time= 8.5min\n",
      "[CV] END max_depth=None, max_features=sqrt, min_samples_leaf=1, min_samples_split=5, n_estimators=100; total time= 4.2min\n",
      "[CV] END max_depth=None, max_features=sqrt, min_samples_leaf=1, min_samples_split=5, n_estimators=200; total time=17.3min\n",
      "[CV] END max_depth=None, max_features=sqrt, min_samples_leaf=2, min_samples_split=2, n_estimators=100; total time= 7.5min\n",
      "[CV] END max_depth=None, max_features=sqrt, min_samples_leaf=2, min_samples_split=5, n_estimators=100; total time= 5.5min\n",
      "[CV] END max_depth=None, max_features=sqrt, min_samples_leaf=2, min_samples_split=5, n_estimators=100; total time= 4.0min\n",
      "[CV] END max_depth=10, max_features=sqrt, min_samples_leaf=1, min_samples_split=2, n_estimators=100; total time= 2.2min\n",
      "[CV] END max_depth=10, max_features=sqrt, min_samples_leaf=1, min_samples_split=2, n_estimators=200; total time= 5.0min\n",
      "[CV] END max_depth=10, max_features=sqrt, min_samples_leaf=1, min_samples_split=5, n_estimators=100; total time= 7.9min\n",
      "[CV] END max_depth=None, max_features=sqrt, min_samples_leaf=1, min_samples_split=2, n_estimators=200; total time=12.8min\n",
      "[CV] END max_depth=None, max_features=sqrt, min_samples_leaf=1, min_samples_split=5, n_estimators=200; total time=17.2min\n",
      "[CV] END max_depth=None, max_features=sqrt, min_samples_leaf=2, min_samples_split=2, n_estimators=200; total time=13.2min\n",
      "[CV] END max_depth=None, max_features=sqrt, min_samples_leaf=2, min_samples_split=5, n_estimators=200; total time= 8.5min\n",
      "[CV] END max_depth=10, max_features=sqrt, min_samples_leaf=1, min_samples_split=2, n_estimators=200; total time=10.5min\n",
      "[CV] END max_depth=None, max_features=sqrt, min_samples_leaf=1, min_samples_split=2, n_estimators=100; total time= 8.5min\n",
      "[CV] END max_depth=None, max_features=sqrt, min_samples_leaf=1, min_samples_split=2, n_estimators=200; total time=14.8min\n",
      "[CV] END max_depth=None, max_features=sqrt, min_samples_leaf=2, min_samples_split=2, n_estimators=100; total time= 7.2min\n",
      "[CV] END max_depth=None, max_features=sqrt, min_samples_leaf=2, min_samples_split=2, n_estimators=200; total time=12.8min\n",
      "[CV] END max_depth=10, max_features=sqrt, min_samples_leaf=1, min_samples_split=2, n_estimators=100; total time= 2.1min\n",
      "[CV] END max_depth=10, max_features=sqrt, min_samples_leaf=1, min_samples_split=2, n_estimators=100; total time= 2.2min\n",
      "[CV] END max_depth=10, max_features=sqrt, min_samples_leaf=1, min_samples_split=2, n_estimators=100; total time= 2.3min\n",
      "[CV] END max_depth=10, max_features=sqrt, min_samples_leaf=1, min_samples_split=2, n_estimators=200; total time= 5.0min\n",
      "[CV] END max_depth=10, max_features=sqrt, min_samples_leaf=1, min_samples_split=5, n_estimators=200; total time=10.1min\n",
      "[CV] END max_depth=10, max_features=sqrt, min_samples_leaf=2, min_samples_split=2, n_estimators=200; total time= 4.7min\n",
      "[CV] END max_depth=10, max_features=sqrt, min_samples_leaf=1, min_samples_split=5, n_estimators=200; total time= 4.6min\n",
      "[CV] END max_depth=10, max_features=sqrt, min_samples_leaf=2, min_samples_split=5, n_estimators=100; total time= 2.4min\n",
      "[CV] END max_depth=10, max_features=sqrt, min_samples_leaf=2, min_samples_split=5, n_estimators=100; total time= 2.2min\n",
      "[CV] END max_depth=10, max_features=sqrt, min_samples_leaf=1, min_samples_split=5, n_estimators=200; total time=10.2min\n",
      "[CV] END max_depth=10, max_features=sqrt, min_samples_leaf=2, min_samples_split=2, n_estimators=200; total time= 4.7min\n",
      "[CV] END max_depth=10, max_features=sqrt, min_samples_leaf=2, min_samples_split=5, n_estimators=100; total time= 2.2min\n",
      "Best parameters found for Random Forest:  {'max_depth': None, 'max_features': 'sqrt', 'min_samples_leaf': 1, 'min_samples_split': 5, 'n_estimators': 200}\n",
      "Best cross-validated score for Random Forest:  0.5592246299475663\n",
      "Accuracy: 0.5632287911057904\n",
      "[CV] END max_depth=10, max_features=sqrt, min_samples_leaf=2, min_samples_split=2, n_estimators=100; total time= 2.3min\n",
      "[CV] END max_depth=10, max_features=sqrt, min_samples_leaf=2, min_samples_split=2, n_estimators=100; total time= 2.4min\n",
      "[CV] END max_depth=10, max_features=sqrt, min_samples_leaf=2, min_samples_split=5, n_estimators=100; total time= 2.4min\n",
      "[CV] END max_depth=10, max_features=sqrt, min_samples_leaf=2, min_samples_split=5, n_estimators=200; total time= 3.9min\n",
      "[CV] END max_depth=10, max_features=sqrt, min_samples_leaf=1, min_samples_split=5, n_estimators=200; total time=10.2min\n",
      "[CV] END max_depth=10, max_features=sqrt, min_samples_leaf=2, min_samples_split=2, n_estimators=200; total time= 4.7min\n",
      "[CV] END max_depth=10, max_features=sqrt, min_samples_leaf=2, min_samples_split=5, n_estimators=200; total time= 3.9min\n",
      "[CV] END max_depth=10, max_features=sqrt, min_samples_leaf=1, min_samples_split=5, n_estimators=100; total time= 7.9min\n",
      "[CV] END max_depth=10, max_features=sqrt, min_samples_leaf=2, min_samples_split=2, n_estimators=100; total time= 2.3min\n",
      "[CV] END max_depth=10, max_features=sqrt, min_samples_leaf=2, min_samples_split=2, n_estimators=200; total time= 4.7min\n",
      "[CV] END max_depth=10, max_features=sqrt, min_samples_leaf=2, min_samples_split=5, n_estimators=200; total time= 3.9min\n",
      "Recall: 0.5373102926184622\n",
      "[CV] END max_depth=10, max_features=sqrt, min_samples_leaf=2, min_samples_split=2, n_estimators=100; total time= 2.3min\n",
      "[CV] END max_depth=10, max_features=sqrt, min_samples_leaf=2, min_samples_split=2, n_estimators=100; total time= 2.4min\n",
      "[CV] END max_depth=10, max_features=sqrt, min_samples_leaf=2, min_samples_split=5, n_estimators=100; total time= 2.4min\n",
      "[CV] END max_depth=10, max_features=sqrt, min_samples_leaf=2, min_samples_split=5, n_estimators=200; total time= 3.9min\n",
      "Precision: 0.5362202569634028\n"
     ]
    },
    {
     "name": "stdout",
     "output_type": "stream",
     "text": [
      "[CV] END max_depth=10, max_features=sqrt, min_samples_leaf=1, min_samples_split=5, n_estimators=200; total time=10.2min\n",
      "[CV] END max_depth=10, max_features=sqrt, min_samples_leaf=2, min_samples_split=2, n_estimators=200; total time= 4.7min\n",
      "[CV] END max_depth=10, max_features=sqrt, min_samples_leaf=2, min_samples_split=5, n_estimators=200; total time= 3.8min\n",
      "F1 Score: 0.5222356738817002\n"
     ]
    },
    {
     "data": {
      "text/plain": [
       "array([[32151,  5029,  8697,  3504,   508],\n",
       "       [ 8410, 13758,  7509,  2451,  6180],\n",
       "       [12049,  5775, 19819,  3027,   814],\n",
       "       [12503,  5137,  7996,  8261,  3898],\n",
       "       [   83,   348,    27,   184, 47393]])"
      ]
     },
     "execution_count": 17,
     "metadata": {},
     "output_type": "execute_result"
    }
   ],
   "source": [
    "# Define the parameter grid for Random Forest\n",
    "param_grid_rf = {\n",
    "    'n_estimators': [100, 200],\n",
    "    'max_features': ['sqrt'], \n",
    "    'max_depth': [None, 10],   \n",
    "    'min_samples_split': [2, 5],\n",
    "    'min_samples_leaf': [1, 2]\n",
    "}\n",
    "\n",
    "\n",
    "# Create a GridSearchCV object for Random Forest\n",
    "rf_grid_search = GridSearchCV(estimator=RandomForestClassifier(), \n",
    "                              param_grid=param_grid_rf, \n",
    "                              cv=5, \n",
    "                              n_jobs=-1, \n",
    "                              verbose=2)\n",
    "\n",
    "# Fit the grid search to the data\n",
    "rf_grid_search.fit(X_train, y_train)\n",
    "\n",
    "# Print the best parameters and the corresponding score\n",
    "print(\"Best parameters found for Random Forest: \", rf_grid_search.best_params_)\n",
    "print(\"Best cross-validated score for Random Forest: \", rf_grid_search.best_score_)\n",
    "\n",
    "# Evaluate the predictions\n",
    "rf_best_pred = rf_grid_search.best_estimator_.predict(X_test)\n",
    "\n",
    "\n",
    "print(\"Accuracy:\", accuracy_score(y_test, rf_best_pred))\n",
    "print(\"Recall:\", recall_score(y_test, rf_best_pred, average='macro'))\n",
    "print(\"Precision:\", precision_score(y_test, rf_best_pred, average='macro'))\n",
    "print(\"F1 Score:\", f1_score(y_test, rf_best_pred, average='macro'))\n",
    "\n",
    "\n",
    "rf_cof = confusion_matrix(y_test, rf_best_pred)\n",
    "rf_cof"
   ]
  },
  {
   "cell_type": "markdown",
   "id": "d2c926ee",
   "metadata": {},
   "source": [
    "<b>Support Vector Machines with Kernel</b>"
   ]
  },
  {
   "cell_type": "code",
   "execution_count": null,
   "id": "e8978e35",
   "metadata": {},
   "outputs": [],
   "source": [
    "from sklearn.svm import SVC\n",
    "\n",
    "svm_model = SVC(kernel='rbf', C=1.0, gamma='scale')  # You can adjust kernel type, C, and gamma as needed\n",
    "svm_model.fit(X_train, y_train)\n",
    "svm_pred = svm_model.predict(X_test)"
   ]
  },
  {
   "cell_type": "code",
   "execution_count": null,
   "id": "bb521e1c",
   "metadata": {},
   "outputs": [],
   "source": [
    "# Define the parameter grid for SVM\n",
    "param_grid_svm = {\n",
    "    'C': [0.1, 1, 10, 100],  # Regularization parameter\n",
    "    'gamma': [1, 0.1, 0.01, 0.001],  # Kernel coefficient\n",
    "    'kernel': ['rbf', 'poly', 'sigmoid']  # Type of kernel\n",
    "}\n",
    "\n",
    "# Create a GridSearchCV object for SVM\n",
    "svm_grid_search = GridSearchCV(SVC(), param_grid=param_grid_svm, cv=5, verbose=2, n_jobs=-1)\n",
    "\n",
    "# Fit the grid search to the data\n",
    "svm_grid_search.fit(X_train, y_train)\n",
    "\n",
    "# Print the best parameters and the corresponding score\n",
    "print(\"Best parameters found for SVM: \", svm_grid_search.best_params_)\n",
    "print(\"Best cross-validated score for SVM: \", svm_grid_search.best_score_)\n",
    "\n",
    "# Evaluate the predictions using the best estimator\n",
    "svm_best_pred = svm_grid_search.best_estimator_.predict(X_test)\n",
    "\n",
    "# Metrics\n",
    "print(\"Accuracy:\", accuracy_score(y_test, svm_best_pred))\n",
    "print(\"Recall:\", recall_score(y_test, svm_best_pred, average='macro'))\n",
    "print(\"Precision:\", precision_score(y_test, svm_best_pred, average='macro'))\n",
    "print(\"F1 Score:\", f1_score(y_test, svm_best_pred, average='macro'))\n",
    "\n",
    "# Confusion Matrix\n",
    "svm_cof = confusion_matrix(y_test, svm_best_pred)\n",
    "svm_cof"
   ]
  },
  {
   "cell_type": "markdown",
   "id": "56bd9e27",
   "metadata": {},
   "source": [
    "### 4.4.Comparison on the models"
   ]
  },
  {
   "cell_type": "markdown",
   "id": "8a95b2fc",
   "metadata": {},
   "source": [
    "<b>Plotting Confustion Matrix</b>"
   ]
  },
  {
   "cell_type": "markdown",
   "id": "4908783d",
   "metadata": {},
   "source": [
    "Confusion matrices are crucial in evaluating the performance of classification models, showing the counts of true positives, false positives, true negatives, and false negatives."
   ]
  },
  {
   "cell_type": "code",
   "execution_count": 18,
   "id": "ce9caf29",
   "metadata": {},
   "outputs": [
    {
     "data": {
      "image/png": "[encoded data removed]",
      "text/plain": [
       "<Figure size 1080x360 with 6 Axes>"
      ]
     },
     "metadata": {
      "needs_background": "light"
     },
     "output_type": "display_data"
    }
   ],
   "source": [
    "fig, ax = plt.subplots(1, 3, figsize=(15, 5))  # Adjusted for 3 subplots\n",
    "\n",
    "ConfusionMatrixDisplay(confusion_matrix=dt_gini_cof).plot(ax=ax[0], values_format='d')\n",
    "ax[0].set_title('Decision Tree Gini Confusion Matrix')\n",
    "\n",
    "ConfusionMatrixDisplay(confusion_matrix=dt_en_cof).plot(ax=ax[1], values_format='d')\n",
    "ax[1].set_title('Decision Tree Entropy Confusion Matrix')\n",
    "\n",
    "ConfusionMatrixDisplay(confusion_matrix=rf_cof).plot(ax=ax[2], values_format='d')\n",
    "ax[2].set_title('Random Forest Confusion Matrix')\n",
    "\n",
    "plt.tight_layout()\n",
    "plt.show()"
   ]
  },
  {
   "cell_type": "markdown",
   "id": "3c338668",
   "metadata": {},
   "source": [
    "Based on these metrics above, the Random Forest model performs slightly better in terms of accuracy, recall, precision, and F1 score compared to the Decision Tree with the Gini criterion and the entropy criterion. <br/>\n",
    "However,to choose the best model,not only these metrics but also factors such as computational complexity, scalability, and maintenance costs should be considered.Random Forest model typically involves more computational cost due to the ensemble of trees but might generalize better when provided with more data. On the other hand, Decision Trees are simpler and faster but may not perform as well on unseen data.\n",
    "</br>\n",
    "Between 2 decision Trees,  The Gini model performs slightly better in terms of accuracy, recall, and F1 score, while the entropy model excels in precision and cross-validated score.A simpler model may be preferable since it performs only slightly worse than a more complex model.The Gini model will be chosen to favour higher recall."
   ]
  },
  {
   "cell_type": "markdown",
   "id": "4867a16c",
   "metadata": {},
   "source": []
  },
  {
   "cell_type": "markdown",
   "id": "fe24bcb3",
   "metadata": {},
   "source": [
    "## 4.5.Final Model"
   ]
  },
  {
   "cell_type": "markdown",
   "id": "c31fc962",
   "metadata": {},
   "source": [
    "<b>Model Interpretation on tree-based model (Gini)</b>"
   ]
  },
  {
   "cell_type": "code",
   "execution_count": 29,
   "id": "5ee4f066",
   "metadata": {
    "scrolled": true
   },
   "outputs": [
    {
     "data": {
      "image/png": "[encoded data removed]",
      "text/plain": [
       "<Figure size 864x576 with 1 Axes>"
      ]
     },
     "metadata": {
      "needs_background": "light"
     },
     "output_type": "display_data"
    }
   ],
   "source": [
    "# Assuming X_train is a NumPy array\n",
    "X_train = pd.DataFrame(X_train)  # Convert to a DataFrame\n",
    "\n",
    "# Now you can access the columns\n",
    "features = X_train.columns\n",
    "\n",
    "\n",
    "# Assume dt_gini_model is your trained Decision Tree model\n",
    "feature_importance = dt_gini_model.feature_importances_\n",
    "\n",
    "plt.figure(figsize=(12, 8))\n",
    "plt.barh(range(len(feature_importance)), feature_importance, align='center')\n",
    "plt.yticks(range(len(feature_importance)), features)\n",
    "plt.xlabel('Feature Importance')\n",
    "plt.ylabel('Feature')\n",
    "plt.show()"
   ]
  },
  {
   "cell_type": "markdown",
   "id": "9df9d656",
   "metadata": {},
   "source": [
    "<b>Model Validation</b>"
   ]
  },
  {
   "cell_type": "markdown",
   "id": "069e3499",
   "metadata": {},
   "source": [
    "Plotting learning curves, which is a great way to check for overfitting or underfitting."
   ]
  },
  {
   "cell_type": "code",
   "execution_count": 30,
   "id": "a3d32237",
   "metadata": {
    "scrolled": true
   },
   "outputs": [
    {
     "name": "stderr",
     "output_type": "stream",
     "text": [
      "/Users/thantthiri/opt/anaconda3/lib/python3.9/site-packages/joblib/externals/loky/process_executor.py:702: UserWarning: A worker stopped while some jobs were given to the executor. This can be caused by a too short worker timeout or by a memory leak.\n",
      "  warnings.warn(\n"
     ]
    },
    {
     "data": {
      "image/png": "[encoded data removed]",
      "text/plain": [
       "<Figure size 720x720 with 1 Axes>"
      ]
     },
     "metadata": {
      "needs_background": "light"
     },
     "output_type": "display_data"
    }
   ],
   "source": [
    "from sklearn.model_selection import learning_curve\n",
    "\n",
    "train_sizes, train_scores, test_scores = learning_curve(\n",
    "    dt_gini_model, X_train, y_train, cv=5, scoring='accuracy', n_jobs=-1, \n",
    "    train_sizes=np.linspace(0.01, 1.0, 50))\n",
    "\n",
    "# Calculate mean and standard deviation for training set scores\n",
    "train_mean = np.mean(train_scores, axis=1)\n",
    "train_std = np.std(train_scores, axis=1)\n",
    "\n",
    "# Calculate mean and standard deviation for test set scores\n",
    "test_mean = np.mean(test_scores, axis=1)\n",
    "test_std = np.std(test_scores, axis=1)\n",
    "\n",
    "# Plot learning curves\n",
    "plt.subplots(1, figsize=(10,10))\n",
    "plt.plot(train_sizes, train_mean, '--', color=\"#111111\",  label=\"Training score\")\n",
    "plt.plot(train_sizes, test_mean, color=\"#111111\", label=\"Cross-validation score\")\n",
    "\n",
    "# Draw bands\n",
    "plt.fill_between(train_sizes, train_mean - train_std, train_mean + train_std, color=\"#DDDDDD\")\n",
    "plt.fill_between(train_sizes, test_mean - test_std, test_mean + test_std, color=\"#DDDDDD\")\n",
    "\n",
    "# Create plot\n",
    "plt.title(\"Learning Curve\")\n",
    "plt.xlabel(\"Training Set Size\"), plt.ylabel(\"Accuracy Score\"), plt.legend(loc=\"best\")\n",
    "plt.tight_layout()\n",
    "plt.show()"
   ]
  },
  {
   "cell_type": "markdown",
   "id": "4ce1e25f",
   "metadata": {},
   "source": [
    "The training score starts high and remains high, indicating that the model is fitting the training data well.\n",
    "</br>\n",
    "The cross-validation score starts low and slightly increases, but there is a large gap between the training and cross-validation scores. This indicates that the model is not generalizing well and is likely overfitting the training data. Overfitting happens when a model learns the details and noise in the training data to the extent that it negatively impacts the performance of the model on new data.\n",
    "</br>\n",
    "Ideally, both lines should converge to a point where the training score decreases slightly and the cross-validation score increases to a point of stability. Both scores should be as high as possible.\n",
    "\n"
   ]
  },
  {
   "cell_type": "code",
   "execution_count": null,
   "id": "b66cf740",
   "metadata": {},
   "outputs": [],
   "source": [
    "fractions = [.2, .25, .3, .35, .4, .45, .5, .6, .75, .8, 1.0]\n",
    "train_size, train_scores, test_scores = learning_curve(pipe, X_train, y_train, train_sizes=fractions)\n",
    "train_scores_mean = np.mean(train_scores, axis=1)\n",
    "train_scores_std = np.std(train_scores, axis=1)\n",
    "test_scores_mean = np.mean(test_scores, axis=1)\n",
    "test_scores_std = np.std(test_scores, axis=1)"
   ]
  },
  {
   "cell_type": "code",
   "execution_count": null,
   "id": "b09de1a0",
   "metadata": {},
   "outputs": [],
   "source": [
    "plt.subplots(figsize=(10, 5))\n",
    "plt.errorbar(train_size, test_scores_mean, yerr=test_scores_std)\n",
    "plt.xlabel('Training set size')\n",
    "plt.ylabel('CV scores')\n",
    "plt.title('Cross-validation score as training set size increases');"
   ]
  },
  {
   "cell_type": "markdown",
   "id": "7b3fbb16",
   "metadata": {},
   "source": [
    "<b>Final Model Training</b>"
   ]
  },
  {
   "cell_type": "code",
   "execution_count": null,
   "id": "13b62611",
   "metadata": {},
   "outputs": [],
   "source": [
    "\n",
    "final_model = RandomForestClassifier(**rf_grid_search.best_params_)\n",
    "final_model.fit(np.vstack((X_train, X_test)), np.concatenate((y_train, y_test)))\n"
   ]
  },
  {
   "cell_type": "code",
   "execution_count": null,
   "id": "91fc6d6a",
   "metadata": {},
   "outputs": [],
   "source": [
    "final_model.version = '1.0'\n",
    "final_model.pandas_version = pd.__version__\n",
    "final_model.numpy_version = np.__version__\n",
    "final_model.sklearn_version = sklearn_version\n",
    "final_model.X_columns = [col for col in X_train.columns]\n",
    "final_model.build_datetime = datetime.datetime.now()"
   ]
  },
  {
   "cell_type": "code",
   "execution_count": null,
   "id": "965e5dfa",
   "metadata": {},
   "outputs": [],
   "source": [
    "modelpath = '../models'\n",
    "save_file(best_model, 'top5_crime_cat_model.pkl', modelpath)"
   ]
  },
  {
   "cell_type": "code",
   "execution_count": null,
   "id": "bb5e82da",
   "metadata": {},
   "outputs": [],
   "source": []
  }
 ],
 "metadata": {
  "kernelspec": {
   "display_name": "Python 3 (ipykernel)",
   "language": "python",
   "name": "python3"
  },
  "language_info": {
   "codemirror_mode": {
    "name": "ipython",
    "version": 3
   },
   "file_extension": ".py",
   "mimetype": "text/x-python",
   "name": "python",
   "nbconvert_exporter": "python",
   "pygments_lexer": "ipython3",
   "version": "3.9.7"
  }
 },
 "nbformat": 4,
 "nbformat_minor": 5
}
