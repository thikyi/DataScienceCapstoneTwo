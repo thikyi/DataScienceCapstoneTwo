{
 "cells": [
  {
   "cell_type": "markdown",
   "id": "1fa700d6",
   "metadata": {},
   "source": [
    "# 1.Data Wragling"
   ]
  },
  {
   "cell_type": "markdown",
   "id": "fc4228e6",
   "metadata": {},
   "source": [
    "### Import Libaries"
   ]
  },
  {
   "cell_type": "code",
   "execution_count": 1,
   "id": "247a3de8",
   "metadata": {},
   "outputs": [],
   "source": [
    "import pandas as pd\n",
    "import requests\n",
    "import numpy as np\n",
    "import matplotlib.pyplot as plt\n",
    "import seaborn as sns\n",
    "import os\n",
    "import math\n",
    "from math import radians, sin, cos, sqrt, atan2"
   ]
  },
  {
   "cell_type": "markdown",
   "id": "829c46f5",
   "metadata": {},
   "source": [
    "##### Import Data & Merge into one datasoure"
   ]
  },
  {
   "cell_type": "markdown",
   "id": "55bd2b44",
   "metadata": {},
   "source": [
    "Data Source:\n",
    "https://data.lacity.org/Public-Safety/Crime-Data-from-2010-to-2019/63jg-8b9z/explore and https://data.lacity.org/Public-Safety/Crime-Data-from-2020-to-Present/2nrs-mtv8"
   ]
  },
  {
   "cell_type": "code",
   "execution_count": 2,
   "id": "372d6994",
   "metadata": {},
   "outputs": [
    {
     "name": "stdout",
     "output_type": "stream",
     "text": [
      "<class 'pandas.core.frame.DataFrame'>\n",
      "RangeIndex: 2135775 entries, 0 to 2135774\n",
      "Data columns (total 28 columns):\n",
      " #   Column          Dtype  \n",
      "---  ------          -----  \n",
      " 0   DR_NO           int64  \n",
      " 1   Date Rptd       object \n",
      " 2   DATE OCC        object \n",
      " 3   TIME OCC        int64  \n",
      " 4   AREA            int64  \n",
      " 5   AREA NAME       object \n",
      " 6   Rpt Dist No     int64  \n",
      " 7   Part 1-2        int64  \n",
      " 8   Crm Cd          int64  \n",
      " 9   Crm Cd Desc     object \n",
      " 10  Mocodes         object \n",
      " 11  Vict Age        int64  \n",
      " 12  Vict Sex        object \n",
      " 13  Vict Descent    object \n",
      " 14  Premis Cd       float64\n",
      " 15  Premis Desc     object \n",
      " 16  Weapon Used Cd  float64\n",
      " 17  Weapon Desc     object \n",
      " 18  Status          object \n",
      " 19  Status Desc     object \n",
      " 20  Crm Cd 1        float64\n",
      " 21  Crm Cd 2        float64\n",
      " 22  Crm Cd 3        float64\n",
      " 23  Crm Cd 4        float64\n",
      " 24  LOCATION        object \n",
      " 25  Cross Street    object \n",
      " 26  LAT             float64\n",
      " 27  LON             float64\n",
      "dtypes: float64(8), int64(7), object(13)\n",
      "memory usage: 456.3+ MB\n",
      "None\n",
      "<class 'pandas.core.frame.DataFrame'>\n",
      "RangeIndex: 857658 entries, 0 to 857657\n",
      "Data columns (total 28 columns):\n",
      " #   Column          Non-Null Count   Dtype  \n",
      "---  ------          --------------   -----  \n",
      " 0   DR_NO           857658 non-null  int64  \n",
      " 1   Date Rptd       857658 non-null  object \n",
      " 2   DATE OCC        857658 non-null  object \n",
      " 3   TIME OCC        857658 non-null  int64  \n",
      " 4   AREA            857658 non-null  int64  \n",
      " 5   AREA NAME       857658 non-null  object \n",
      " 6   Rpt Dist No     857658 non-null  int64  \n",
      " 7   Part 1-2        857658 non-null  int64  \n",
      " 8   Crm Cd          857658 non-null  int64  \n",
      " 9   Crm Cd Desc     857658 non-null  object \n",
      " 10  Mocodes         738638 non-null  object \n",
      " 11  Vict Age        857658 non-null  int64  \n",
      " 12  Vict Sex        744408 non-null  object \n",
      " 13  Vict Descent    744400 non-null  object \n",
      " 14  Premis Cd       857648 non-null  float64\n",
      " 15  Premis Desc     857135 non-null  object \n",
      " 16  Weapon Used Cd  298191 non-null  float64\n",
      " 17  Weapon Desc     298191 non-null  object \n",
      " 18  Status          857658 non-null  object \n",
      " 19  Status Desc     857658 non-null  object \n",
      " 20  Crm Cd 1        857647 non-null  float64\n",
      " 21  Crm Cd 2        62832 non-null   float64\n",
      " 22  Crm Cd 3        2118 non-null    float64\n",
      " 23  Crm Cd 4        62 non-null      float64\n",
      " 24  LOCATION        857658 non-null  object \n",
      " 25  Cross Street    136323 non-null  object \n",
      " 26  LAT             857658 non-null  float64\n",
      " 27  LON             857658 non-null  float64\n",
      "dtypes: float64(8), int64(7), object(13)\n",
      "memory usage: 183.2+ MB\n",
      "None\n"
     ]
    }
   ],
   "source": [
    "crime_data1 = pd.read_csv('../data/raw/Crime_Data_from_2010_to_2019.csv')\n",
    "crime_data2 = pd.read_csv('../data/raw/Crime_Data_from_2020_to_Present.csv')\n",
    "print(crime_data1.info())\n",
    "print(crime_data2.info())"
   ]
  },
  {
   "cell_type": "code",
   "execution_count": 3,
   "id": "9892fcd6",
   "metadata": {
    "scrolled": true
   },
   "outputs": [
    {
     "name": "stdout",
     "output_type": "stream",
     "text": [
      "<class 'pandas.core.frame.DataFrame'>\n",
      "RangeIndex: 2135775 entries, 0 to 2135774\n",
      "Data columns (total 28 columns):\n",
      " #   Column          Dtype  \n",
      "---  ------          -----  \n",
      " 0   DR_NO           int64  \n",
      " 1   Date Rptd       object \n",
      " 2   DATE OCC        object \n",
      " 3   TIME OCC        int64  \n",
      " 4   AREA            int64  \n",
      " 5   AREA NAME       object \n",
      " 6   Rpt Dist No     int64  \n",
      " 7   Part 1-2        int64  \n",
      " 8   Crm Cd          int64  \n",
      " 9   Crm Cd Desc     object \n",
      " 10  Mocodes         object \n",
      " 11  Vict Age        int64  \n",
      " 12  Vict Sex        object \n",
      " 13  Vict Descent    object \n",
      " 14  Premis Cd       float64\n",
      " 15  Premis Desc     object \n",
      " 16  Weapon Used Cd  float64\n",
      " 17  Weapon Desc     object \n",
      " 18  Status          object \n",
      " 19  Status Desc     object \n",
      " 20  Crm Cd 1        float64\n",
      " 21  Crm Cd 2        float64\n",
      " 22  Crm Cd 3        float64\n",
      " 23  Crm Cd 4        float64\n",
      " 24  LOCATION        object \n",
      " 25  Cross Street    object \n",
      " 26  LAT             float64\n",
      " 27  LON             float64\n",
      "dtypes: float64(8), int64(7), object(13)\n",
      "memory usage: 456.3+ MB\n",
      "None\n",
      "<class 'pandas.core.frame.DataFrame'>\n",
      "RangeIndex: 857658 entries, 0 to 857657\n",
      "Data columns (total 28 columns):\n",
      " #   Column          Non-Null Count   Dtype  \n",
      "---  ------          --------------   -----  \n",
      " 0   DR_NO           857658 non-null  int64  \n",
      " 1   Date Rptd       857658 non-null  object \n",
      " 2   DATE OCC        857658 non-null  object \n",
      " 3   TIME OCC        857658 non-null  int64  \n",
      " 4   AREA            857658 non-null  int64  \n",
      " 5   AREA NAME       857658 non-null  object \n",
      " 6   Rpt Dist No     857658 non-null  int64  \n",
      " 7   Part 1-2        857658 non-null  int64  \n",
      " 8   Crm Cd          857658 non-null  int64  \n",
      " 9   Crm Cd Desc     857658 non-null  object \n",
      " 10  Mocodes         738638 non-null  object \n",
      " 11  Vict Age        857658 non-null  int64  \n",
      " 12  Vict Sex        744408 non-null  object \n",
      " 13  Vict Descent    744400 non-null  object \n",
      " 14  Premis Cd       857648 non-null  float64\n",
      " 15  Premis Desc     857135 non-null  object \n",
      " 16  Weapon Used Cd  298191 non-null  float64\n",
      " 17  Weapon Desc     298191 non-null  object \n",
      " 18  Status          857658 non-null  object \n",
      " 19  Status Desc     857658 non-null  object \n",
      " 20  Crm Cd 1        857647 non-null  float64\n",
      " 21  Crm Cd 2        62832 non-null   float64\n",
      " 22  Crm Cd 3        2118 non-null    float64\n",
      " 23  Crm Cd 4        62 non-null      float64\n",
      " 24  LOCATION        857658 non-null  object \n",
      " 25  Cross Street    136323 non-null  object \n",
      " 26  LAT             857658 non-null  float64\n",
      " 27  LON             857658 non-null  float64\n",
      "dtypes: float64(8), int64(7), object(13)\n",
      "memory usage: 183.2+ MB\n",
      "None\n"
     ]
    }
   ],
   "source": [
    "print(crime_data1.info())\n",
    "print(crime_data2.info())"
   ]
  },
  {
   "cell_type": "markdown",
   "id": "d2081351",
   "metadata": {},
   "source": [
    "Both dataframes context are identical, so it will be merge into one data frame"
   ]
  },
  {
   "cell_type": "code",
   "execution_count": 4,
   "id": "c083186f",
   "metadata": {},
   "outputs": [],
   "source": [
    "# Make all columns to upper case and remove space\n",
    "crime_data1.columns = crime_data1.columns.str.upper().str.strip()\n",
    "crime_data2.columns = crime_data2.columns.str.upper().str.strip()\n",
    "\n",
    "# Concatenate them vertically (along rows)\n",
    "crime_data = pd.concat([crime_data1, crime_data2], ignore_index=True)"
   ]
  },
  {
   "cell_type": "markdown",
   "id": "4f851f69",
   "metadata": {},
   "source": [
    "##### Remove space from column names and rename columns"
   ]
  },
  {
   "cell_type": "code",
   "execution_count": 5,
   "id": "bf8fa0f9",
   "metadata": {},
   "outputs": [],
   "source": [
    "crime_data.columns = [col.replace(' ', '_') for col in crime_data.columns]\n",
    "crime_data.columns = [col.replace('-', '_') for col in crime_data.columns]\n",
    "\n",
    "crime_data.rename(columns={'LAT':'latitude','LON':'longitude'}, inplace=True)"
   ]
  },
  {
   "cell_type": "code",
   "execution_count": 6,
   "id": "fa151676",
   "metadata": {},
   "outputs": [
    {
     "name": "stdout",
     "output_type": "stream",
     "text": [
      "<class 'pandas.core.frame.DataFrame'>\n",
      "RangeIndex: 2993433 entries, 0 to 2993432\n",
      "Data columns (total 28 columns):\n",
      " #   Column          Dtype  \n",
      "---  ------          -----  \n",
      " 0   DR_NO           int64  \n",
      " 1   DATE_RPTD       object \n",
      " 2   DATE_OCC        object \n",
      " 3   TIME_OCC        int64  \n",
      " 4   AREA            int64  \n",
      " 5   AREA_NAME       object \n",
      " 6   RPT_DIST_NO     int64  \n",
      " 7   PART_1_2        int64  \n",
      " 8   CRM_CD          int64  \n",
      " 9   CRM_CD_DESC     object \n",
      " 10  MOCODES         object \n",
      " 11  VICT_AGE        int64  \n",
      " 12  VICT_SEX        object \n",
      " 13  VICT_DESCENT    object \n",
      " 14  PREMIS_CD       float64\n",
      " 15  PREMIS_DESC     object \n",
      " 16  WEAPON_USED_CD  float64\n",
      " 17  WEAPON_DESC     object \n",
      " 18  STATUS          object \n",
      " 19  STATUS_DESC     object \n",
      " 20  CRM_CD_1        float64\n",
      " 21  CRM_CD_2        float64\n",
      " 22  CRM_CD_3        float64\n",
      " 23  CRM_CD_4        float64\n",
      " 24  LOCATION        object \n",
      " 25  CROSS_STREET    object \n",
      " 26  latitude        float64\n",
      " 27  longitude       float64\n",
      "dtypes: float64(8), int64(7), object(13)\n",
      "memory usage: 639.5+ MB\n"
     ]
    }
   ],
   "source": [
    "crime_data.info()"
   ]
  },
  {
   "cell_type": "code",
   "execution_count": 7,
   "id": "82d51ef2",
   "metadata": {},
   "outputs": [
    {
     "data": {
      "text/html": [
       "<div>\n",
       "<style scoped>\n",
       "    .dataframe tbody tr th:only-of-type {\n",
       "        vertical-align: middle;\n",
       "    }\n",
       "\n",
       "    .dataframe tbody tr th {\n",
       "        vertical-align: top;\n",
       "    }\n",
       "\n",
       "    .dataframe thead th {\n",
       "        text-align: right;\n",
       "    }\n",
       "</style>\n",
       "<table border=\"1\" class=\"dataframe\">\n",
       "  <thead>\n",
       "    <tr style=\"text-align: right;\">\n",
       "      <th></th>\n",
       "      <th>index</th>\n",
       "      <th>DR_NO</th>\n",
       "      <th>DATE_RPTD</th>\n",
       "      <th>DATE_OCC</th>\n",
       "      <th>TIME_OCC</th>\n",
       "      <th>AREA</th>\n",
       "      <th>AREA_NAME</th>\n",
       "      <th>RPT_DIST_NO</th>\n",
       "      <th>PART_1_2</th>\n",
       "      <th>CRM_CD</th>\n",
       "      <th>...</th>\n",
       "      <th>STATUS</th>\n",
       "      <th>STATUS_DESC</th>\n",
       "      <th>CRM_CD_1</th>\n",
       "      <th>CRM_CD_2</th>\n",
       "      <th>CRM_CD_3</th>\n",
       "      <th>CRM_CD_4</th>\n",
       "      <th>LOCATION</th>\n",
       "      <th>CROSS_STREET</th>\n",
       "      <th>latitude</th>\n",
       "      <th>longitude</th>\n",
       "    </tr>\n",
       "  </thead>\n",
       "  <tbody>\n",
       "    <tr>\n",
       "      <th>0</th>\n",
       "      <td>0</td>\n",
       "      <td>1307355</td>\n",
       "      <td>02/20/2010 12:00:00 AM</td>\n",
       "      <td>02/20/2010 12:00:00 AM</td>\n",
       "      <td>1350</td>\n",
       "      <td>13</td>\n",
       "      <td>Newton</td>\n",
       "      <td>1385</td>\n",
       "      <td>2</td>\n",
       "      <td>900</td>\n",
       "      <td>...</td>\n",
       "      <td>AA</td>\n",
       "      <td>Adult Arrest</td>\n",
       "      <td>900.0</td>\n",
       "      <td>NaN</td>\n",
       "      <td>NaN</td>\n",
       "      <td>NaN</td>\n",
       "      <td>300 E  GAGE                         AV</td>\n",
       "      <td>NaN</td>\n",
       "      <td>33.9825</td>\n",
       "      <td>-118.2695</td>\n",
       "    </tr>\n",
       "    <tr>\n",
       "      <th>1</th>\n",
       "      <td>1</td>\n",
       "      <td>11401303</td>\n",
       "      <td>09/13/2010 12:00:00 AM</td>\n",
       "      <td>09/12/2010 12:00:00 AM</td>\n",
       "      <td>45</td>\n",
       "      <td>14</td>\n",
       "      <td>Pacific</td>\n",
       "      <td>1485</td>\n",
       "      <td>2</td>\n",
       "      <td>740</td>\n",
       "      <td>...</td>\n",
       "      <td>IC</td>\n",
       "      <td>Invest Cont</td>\n",
       "      <td>740.0</td>\n",
       "      <td>NaN</td>\n",
       "      <td>NaN</td>\n",
       "      <td>NaN</td>\n",
       "      <td>SEPULVEDA                    BL</td>\n",
       "      <td>MANCHESTER                   AV</td>\n",
       "      <td>33.9599</td>\n",
       "      <td>-118.3962</td>\n",
       "    </tr>\n",
       "    <tr>\n",
       "      <th>2</th>\n",
       "      <td>2</td>\n",
       "      <td>70309629</td>\n",
       "      <td>08/09/2010 12:00:00 AM</td>\n",
       "      <td>08/09/2010 12:00:00 AM</td>\n",
       "      <td>1515</td>\n",
       "      <td>13</td>\n",
       "      <td>Newton</td>\n",
       "      <td>1324</td>\n",
       "      <td>2</td>\n",
       "      <td>946</td>\n",
       "      <td>...</td>\n",
       "      <td>IC</td>\n",
       "      <td>Invest Cont</td>\n",
       "      <td>946.0</td>\n",
       "      <td>NaN</td>\n",
       "      <td>NaN</td>\n",
       "      <td>NaN</td>\n",
       "      <td>1300 E  21ST                         ST</td>\n",
       "      <td>NaN</td>\n",
       "      <td>34.0224</td>\n",
       "      <td>-118.2524</td>\n",
       "    </tr>\n",
       "    <tr>\n",
       "      <th>3</th>\n",
       "      <td>3</td>\n",
       "      <td>90631215</td>\n",
       "      <td>01/05/2010 12:00:00 AM</td>\n",
       "      <td>01/05/2010 12:00:00 AM</td>\n",
       "      <td>150</td>\n",
       "      <td>6</td>\n",
       "      <td>Hollywood</td>\n",
       "      <td>646</td>\n",
       "      <td>2</td>\n",
       "      <td>900</td>\n",
       "      <td>...</td>\n",
       "      <td>IC</td>\n",
       "      <td>Invest Cont</td>\n",
       "      <td>900.0</td>\n",
       "      <td>998.0</td>\n",
       "      <td>NaN</td>\n",
       "      <td>NaN</td>\n",
       "      <td>CAHUENGA                     BL</td>\n",
       "      <td>HOLLYWOOD                    BL</td>\n",
       "      <td>34.1016</td>\n",
       "      <td>-118.3295</td>\n",
       "    </tr>\n",
       "    <tr>\n",
       "      <th>4</th>\n",
       "      <td>4</td>\n",
       "      <td>100100501</td>\n",
       "      <td>01/03/2010 12:00:00 AM</td>\n",
       "      <td>01/02/2010 12:00:00 AM</td>\n",
       "      <td>2100</td>\n",
       "      <td>1</td>\n",
       "      <td>Central</td>\n",
       "      <td>176</td>\n",
       "      <td>1</td>\n",
       "      <td>122</td>\n",
       "      <td>...</td>\n",
       "      <td>IC</td>\n",
       "      <td>Invest Cont</td>\n",
       "      <td>122.0</td>\n",
       "      <td>NaN</td>\n",
       "      <td>NaN</td>\n",
       "      <td>NaN</td>\n",
       "      <td>8TH                          ST</td>\n",
       "      <td>SAN PEDRO                    ST</td>\n",
       "      <td>34.0387</td>\n",
       "      <td>-118.2488</td>\n",
       "    </tr>\n",
       "    <tr>\n",
       "      <th>...</th>\n",
       "      <td>...</td>\n",
       "      <td>...</td>\n",
       "      <td>...</td>\n",
       "      <td>...</td>\n",
       "      <td>...</td>\n",
       "      <td>...</td>\n",
       "      <td>...</td>\n",
       "      <td>...</td>\n",
       "      <td>...</td>\n",
       "      <td>...</td>\n",
       "      <td>...</td>\n",
       "      <td>...</td>\n",
       "      <td>...</td>\n",
       "      <td>...</td>\n",
       "      <td>...</td>\n",
       "      <td>...</td>\n",
       "      <td>...</td>\n",
       "      <td>...</td>\n",
       "      <td>...</td>\n",
       "      <td>...</td>\n",
       "      <td>...</td>\n",
       "    </tr>\n",
       "    <tr>\n",
       "      <th>2993428</th>\n",
       "      <td>2993428</td>\n",
       "      <td>231606525</td>\n",
       "      <td>03/22/2023 12:00:00 AM</td>\n",
       "      <td>03/22/2023 12:00:00 AM</td>\n",
       "      <td>1000</td>\n",
       "      <td>16</td>\n",
       "      <td>Foothill</td>\n",
       "      <td>1602</td>\n",
       "      <td>1</td>\n",
       "      <td>230</td>\n",
       "      <td>...</td>\n",
       "      <td>IC</td>\n",
       "      <td>Invest Cont</td>\n",
       "      <td>230.0</td>\n",
       "      <td>NaN</td>\n",
       "      <td>NaN</td>\n",
       "      <td>NaN</td>\n",
       "      <td>12800    FILMORE                      ST</td>\n",
       "      <td>NaN</td>\n",
       "      <td>34.2790</td>\n",
       "      <td>-118.4116</td>\n",
       "    </tr>\n",
       "    <tr>\n",
       "      <th>2993429</th>\n",
       "      <td>2993429</td>\n",
       "      <td>231210064</td>\n",
       "      <td>04/12/2023 12:00:00 AM</td>\n",
       "      <td>04/12/2023 12:00:00 AM</td>\n",
       "      <td>1630</td>\n",
       "      <td>12</td>\n",
       "      <td>77th Street</td>\n",
       "      <td>1239</td>\n",
       "      <td>1</td>\n",
       "      <td>230</td>\n",
       "      <td>...</td>\n",
       "      <td>IC</td>\n",
       "      <td>Invest Cont</td>\n",
       "      <td>230.0</td>\n",
       "      <td>NaN</td>\n",
       "      <td>NaN</td>\n",
       "      <td>NaN</td>\n",
       "      <td>6100 S  VERMONT                      AV</td>\n",
       "      <td>NaN</td>\n",
       "      <td>33.9841</td>\n",
       "      <td>-118.2915</td>\n",
       "    </tr>\n",
       "    <tr>\n",
       "      <th>2993430</th>\n",
       "      <td>2993430</td>\n",
       "      <td>230115220</td>\n",
       "      <td>07/02/2023 12:00:00 AM</td>\n",
       "      <td>07/01/2023 12:00:00 AM</td>\n",
       "      <td>1</td>\n",
       "      <td>1</td>\n",
       "      <td>Central</td>\n",
       "      <td>154</td>\n",
       "      <td>1</td>\n",
       "      <td>352</td>\n",
       "      <td>...</td>\n",
       "      <td>IC</td>\n",
       "      <td>Invest Cont</td>\n",
       "      <td>352.0</td>\n",
       "      <td>NaN</td>\n",
       "      <td>NaN</td>\n",
       "      <td>NaN</td>\n",
       "      <td>500 S  MAIN                         ST</td>\n",
       "      <td>NaN</td>\n",
       "      <td>34.0467</td>\n",
       "      <td>-118.2485</td>\n",
       "    </tr>\n",
       "    <tr>\n",
       "      <th>2993431</th>\n",
       "      <td>2993431</td>\n",
       "      <td>230906458</td>\n",
       "      <td>03/05/2023 12:00:00 AM</td>\n",
       "      <td>03/05/2023 12:00:00 AM</td>\n",
       "      <td>900</td>\n",
       "      <td>9</td>\n",
       "      <td>Van Nuys</td>\n",
       "      <td>914</td>\n",
       "      <td>2</td>\n",
       "      <td>745</td>\n",
       "      <td>...</td>\n",
       "      <td>IC</td>\n",
       "      <td>Invest Cont</td>\n",
       "      <td>745.0</td>\n",
       "      <td>NaN</td>\n",
       "      <td>NaN</td>\n",
       "      <td>NaN</td>\n",
       "      <td>14500    HARTLAND                     ST</td>\n",
       "      <td>NaN</td>\n",
       "      <td>34.1951</td>\n",
       "      <td>-118.4487</td>\n",
       "    </tr>\n",
       "    <tr>\n",
       "      <th>2993432</th>\n",
       "      <td>2993432</td>\n",
       "      <td>230319786</td>\n",
       "      <td>11/10/2023 12:00:00 AM</td>\n",
       "      <td>11/09/2023 12:00:00 AM</td>\n",
       "      <td>2300</td>\n",
       "      <td>3</td>\n",
       "      <td>Southwest</td>\n",
       "      <td>395</td>\n",
       "      <td>1</td>\n",
       "      <td>331</td>\n",
       "      <td>...</td>\n",
       "      <td>IC</td>\n",
       "      <td>Invest Cont</td>\n",
       "      <td>331.0</td>\n",
       "      <td>NaN</td>\n",
       "      <td>NaN</td>\n",
       "      <td>NaN</td>\n",
       "      <td>4100 S  HOBART                       BL</td>\n",
       "      <td>NaN</td>\n",
       "      <td>34.0091</td>\n",
       "      <td>-118.3078</td>\n",
       "    </tr>\n",
       "  </tbody>\n",
       "</table>\n",
       "<p>2993433 rows × 29 columns</p>\n",
       "</div>"
      ],
      "text/plain": [
       "           index      DR_NO               DATE_RPTD                DATE_OCC  \\\n",
       "0              0    1307355  02/20/2010 12:00:00 AM  02/20/2010 12:00:00 AM   \n",
       "1              1   11401303  09/13/2010 12:00:00 AM  09/12/2010 12:00:00 AM   \n",
       "2              2   70309629  08/09/2010 12:00:00 AM  08/09/2010 12:00:00 AM   \n",
       "3              3   90631215  01/05/2010 12:00:00 AM  01/05/2010 12:00:00 AM   \n",
       "4              4  100100501  01/03/2010 12:00:00 AM  01/02/2010 12:00:00 AM   \n",
       "...          ...        ...                     ...                     ...   \n",
       "2993428  2993428  231606525  03/22/2023 12:00:00 AM  03/22/2023 12:00:00 AM   \n",
       "2993429  2993429  231210064  04/12/2023 12:00:00 AM  04/12/2023 12:00:00 AM   \n",
       "2993430  2993430  230115220  07/02/2023 12:00:00 AM  07/01/2023 12:00:00 AM   \n",
       "2993431  2993431  230906458  03/05/2023 12:00:00 AM  03/05/2023 12:00:00 AM   \n",
       "2993432  2993432  230319786  11/10/2023 12:00:00 AM  11/09/2023 12:00:00 AM   \n",
       "\n",
       "         TIME_OCC  AREA    AREA_NAME  RPT_DIST_NO  PART_1_2  CRM_CD  ...  \\\n",
       "0            1350    13       Newton         1385         2     900  ...   \n",
       "1              45    14      Pacific         1485         2     740  ...   \n",
       "2            1515    13       Newton         1324         2     946  ...   \n",
       "3             150     6    Hollywood          646         2     900  ...   \n",
       "4            2100     1      Central          176         1     122  ...   \n",
       "...           ...   ...          ...          ...       ...     ...  ...   \n",
       "2993428      1000    16     Foothill         1602         1     230  ...   \n",
       "2993429      1630    12  77th Street         1239         1     230  ...   \n",
       "2993430         1     1      Central          154         1     352  ...   \n",
       "2993431       900     9     Van Nuys          914         2     745  ...   \n",
       "2993432      2300     3    Southwest          395         1     331  ...   \n",
       "\n",
       "        STATUS   STATUS_DESC  CRM_CD_1 CRM_CD_2 CRM_CD_3  CRM_CD_4  \\\n",
       "0           AA  Adult Arrest     900.0      NaN      NaN       NaN   \n",
       "1           IC   Invest Cont     740.0      NaN      NaN       NaN   \n",
       "2           IC   Invest Cont     946.0      NaN      NaN       NaN   \n",
       "3           IC   Invest Cont     900.0    998.0      NaN       NaN   \n",
       "4           IC   Invest Cont     122.0      NaN      NaN       NaN   \n",
       "...        ...           ...       ...      ...      ...       ...   \n",
       "2993428     IC   Invest Cont     230.0      NaN      NaN       NaN   \n",
       "2993429     IC   Invest Cont     230.0      NaN      NaN       NaN   \n",
       "2993430     IC   Invest Cont     352.0      NaN      NaN       NaN   \n",
       "2993431     IC   Invest Cont     745.0      NaN      NaN       NaN   \n",
       "2993432     IC   Invest Cont     331.0      NaN      NaN       NaN   \n",
       "\n",
       "                                         LOCATION  \\\n",
       "0          300 E  GAGE                         AV   \n",
       "1                 SEPULVEDA                    BL   \n",
       "2         1300 E  21ST                         ST   \n",
       "3                 CAHUENGA                     BL   \n",
       "4                 8TH                          ST   \n",
       "...                                           ...   \n",
       "2993428  12800    FILMORE                      ST   \n",
       "2993429   6100 S  VERMONT                      AV   \n",
       "2993430    500 S  MAIN                         ST   \n",
       "2993431  14500    HARTLAND                     ST   \n",
       "2993432   4100 S  HOBART                       BL   \n",
       "\n",
       "                            CROSS_STREET latitude longitude  \n",
       "0                                    NaN  33.9825 -118.2695  \n",
       "1        MANCHESTER                   AV  33.9599 -118.3962  \n",
       "2                                    NaN  34.0224 -118.2524  \n",
       "3        HOLLYWOOD                    BL  34.1016 -118.3295  \n",
       "4        SAN PEDRO                    ST  34.0387 -118.2488  \n",
       "...                                  ...      ...       ...  \n",
       "2993428                              NaN  34.2790 -118.4116  \n",
       "2993429                              NaN  33.9841 -118.2915  \n",
       "2993430                              NaN  34.0467 -118.2485  \n",
       "2993431                              NaN  34.1951 -118.4487  \n",
       "2993432                              NaN  34.0091 -118.3078  \n",
       "\n",
       "[2993433 rows x 29 columns]"
      ]
     },
     "execution_count": 7,
     "metadata": {},
     "output_type": "execute_result"
    }
   ],
   "source": [
    "crime_data.reset_index()"
   ]
  },
  {
   "cell_type": "markdown",
   "id": "5f894221",
   "metadata": {},
   "source": [
    "## Explore Data"
   ]
  },
  {
   "cell_type": "markdown",
   "id": "766e577a",
   "metadata": {},
   "source": [
    "<b>Number Of Missing Values By Column</b>"
   ]
  },
  {
   "cell_type": "code",
   "execution_count": 8,
   "id": "8f1a4bf9",
   "metadata": {
    "scrolled": true
   },
   "outputs": [
    {
     "data": {
      "text/html": [
       "<div>\n",
       "<style scoped>\n",
       "    .dataframe tbody tr th:only-of-type {\n",
       "        vertical-align: middle;\n",
       "    }\n",
       "\n",
       "    .dataframe tbody tr th {\n",
       "        vertical-align: top;\n",
       "    }\n",
       "\n",
       "    .dataframe thead th {\n",
       "        text-align: right;\n",
       "    }\n",
       "</style>\n",
       "<table border=\"1\" class=\"dataframe\">\n",
       "  <thead>\n",
       "    <tr style=\"text-align: right;\">\n",
       "      <th></th>\n",
       "      <th>count</th>\n",
       "      <th>%</th>\n",
       "    </tr>\n",
       "  </thead>\n",
       "  <tbody>\n",
       "    <tr>\n",
       "      <th>DR_NO</th>\n",
       "      <td>0</td>\n",
       "      <td>0.000000</td>\n",
       "    </tr>\n",
       "    <tr>\n",
       "      <th>LOCATION</th>\n",
       "      <td>0</td>\n",
       "      <td>0.000000</td>\n",
       "    </tr>\n",
       "    <tr>\n",
       "      <th>STATUS_DESC</th>\n",
       "      <td>0</td>\n",
       "      <td>0.000000</td>\n",
       "    </tr>\n",
       "    <tr>\n",
       "      <th>latitude</th>\n",
       "      <td>0</td>\n",
       "      <td>0.000000</td>\n",
       "    </tr>\n",
       "    <tr>\n",
       "      <th>VICT_AGE</th>\n",
       "      <td>0</td>\n",
       "      <td>0.000000</td>\n",
       "    </tr>\n",
       "    <tr>\n",
       "      <th>CRM_CD_DESC</th>\n",
       "      <td>0</td>\n",
       "      <td>0.000000</td>\n",
       "    </tr>\n",
       "    <tr>\n",
       "      <th>CRM_CD</th>\n",
       "      <td>0</td>\n",
       "      <td>0.000000</td>\n",
       "    </tr>\n",
       "    <tr>\n",
       "      <th>longitude</th>\n",
       "      <td>0</td>\n",
       "      <td>0.000000</td>\n",
       "    </tr>\n",
       "    <tr>\n",
       "      <th>RPT_DIST_NO</th>\n",
       "      <td>0</td>\n",
       "      <td>0.000000</td>\n",
       "    </tr>\n",
       "    <tr>\n",
       "      <th>AREA_NAME</th>\n",
       "      <td>0</td>\n",
       "      <td>0.000000</td>\n",
       "    </tr>\n",
       "    <tr>\n",
       "      <th>DATE_RPTD</th>\n",
       "      <td>0</td>\n",
       "      <td>0.000000</td>\n",
       "    </tr>\n",
       "    <tr>\n",
       "      <th>AREA</th>\n",
       "      <td>0</td>\n",
       "      <td>0.000000</td>\n",
       "    </tr>\n",
       "    <tr>\n",
       "      <th>TIME_OCC</th>\n",
       "      <td>0</td>\n",
       "      <td>0.000000</td>\n",
       "    </tr>\n",
       "    <tr>\n",
       "      <th>PART_1_2</th>\n",
       "      <td>0</td>\n",
       "      <td>0.000000</td>\n",
       "    </tr>\n",
       "    <tr>\n",
       "      <th>DATE_OCC</th>\n",
       "      <td>0</td>\n",
       "      <td>0.000000</td>\n",
       "    </tr>\n",
       "    <tr>\n",
       "      <th>STATUS</th>\n",
       "      <td>3</td>\n",
       "      <td>0.000100</td>\n",
       "    </tr>\n",
       "    <tr>\n",
       "      <th>CRM_CD_1</th>\n",
       "      <td>21</td>\n",
       "      <td>0.000702</td>\n",
       "    </tr>\n",
       "    <tr>\n",
       "      <th>PREMIS_CD</th>\n",
       "      <td>57</td>\n",
       "      <td>0.001904</td>\n",
       "    </tr>\n",
       "    <tr>\n",
       "      <th>PREMIS_DESC</th>\n",
       "      <td>717</td>\n",
       "      <td>0.023952</td>\n",
       "    </tr>\n",
       "    <tr>\n",
       "      <th>VICT_SEX</th>\n",
       "      <td>314958</td>\n",
       "      <td>10.521632</td>\n",
       "    </tr>\n",
       "    <tr>\n",
       "      <th>VICT_DESCENT</th>\n",
       "      <td>315011</td>\n",
       "      <td>10.523402</td>\n",
       "    </tr>\n",
       "    <tr>\n",
       "      <th>MOCODES</th>\n",
       "      <td>352115</td>\n",
       "      <td>11.762916</td>\n",
       "    </tr>\n",
       "    <tr>\n",
       "      <th>WEAPON_USED_CD</th>\n",
       "      <td>1978414</td>\n",
       "      <td>66.091808</td>\n",
       "    </tr>\n",
       "    <tr>\n",
       "      <th>WEAPON_DESC</th>\n",
       "      <td>1978415</td>\n",
       "      <td>66.091842</td>\n",
       "    </tr>\n",
       "    <tr>\n",
       "      <th>CROSS_STREET</th>\n",
       "      <td>2499025</td>\n",
       "      <td>83.483579</td>\n",
       "    </tr>\n",
       "    <tr>\n",
       "      <th>CRM_CD_2</th>\n",
       "      <td>2787544</td>\n",
       "      <td>93.121977</td>\n",
       "    </tr>\n",
       "    <tr>\n",
       "      <th>CRM_CD_3</th>\n",
       "      <td>2987613</td>\n",
       "      <td>99.805574</td>\n",
       "    </tr>\n",
       "    <tr>\n",
       "      <th>CRM_CD_4</th>\n",
       "      <td>2993263</td>\n",
       "      <td>99.994321</td>\n",
       "    </tr>\n",
       "  </tbody>\n",
       "</table>\n",
       "</div>"
      ],
      "text/plain": [
       "                  count          %\n",
       "DR_NO                 0   0.000000\n",
       "LOCATION              0   0.000000\n",
       "STATUS_DESC           0   0.000000\n",
       "latitude              0   0.000000\n",
       "VICT_AGE              0   0.000000\n",
       "CRM_CD_DESC           0   0.000000\n",
       "CRM_CD                0   0.000000\n",
       "longitude             0   0.000000\n",
       "RPT_DIST_NO           0   0.000000\n",
       "AREA_NAME             0   0.000000\n",
       "DATE_RPTD             0   0.000000\n",
       "AREA                  0   0.000000\n",
       "TIME_OCC              0   0.000000\n",
       "PART_1_2              0   0.000000\n",
       "DATE_OCC              0   0.000000\n",
       "STATUS                3   0.000100\n",
       "CRM_CD_1             21   0.000702\n",
       "PREMIS_CD            57   0.001904\n",
       "PREMIS_DESC         717   0.023952\n",
       "VICT_SEX         314958  10.521632\n",
       "VICT_DESCENT     315011  10.523402\n",
       "MOCODES          352115  11.762916\n",
       "WEAPON_USED_CD  1978414  66.091808\n",
       "WEAPON_DESC     1978415  66.091842\n",
       "CROSS_STREET    2499025  83.483579\n",
       "CRM_CD_2        2787544  93.121977\n",
       "CRM_CD_3        2987613  99.805574\n",
       "CRM_CD_4        2993263  99.994321"
      ]
     },
     "execution_count": 8,
     "metadata": {},
     "output_type": "execute_result"
    }
   ],
   "source": [
    "missing_crime= pd.concat([crime_data.isnull().sum(), 100 * crime_data.isnull().mean()], axis=1)\n",
    "missing_crime.columns=['count', '%']\n",
    "missing_crime.sort_values(by=['count'])"
   ]
  },
  {
   "cell_type": "markdown",
   "id": "f27e24ed",
   "metadata": {},
   "source": [
    "##### Handling Missing data"
   ]
  },
  {
   "cell_type": "code",
   "execution_count": 9,
   "id": "74793698",
   "metadata": {},
   "outputs": [],
   "source": [
    "# Fill missing values\n",
    "crime_data['VICT_SEX'].fillna('Unknown', inplace=True)\n",
    "crime_data['VICT_DESCENT'].fillna('Unknown', inplace=True)\n",
    "\n",
    "# Extract month, day, and year from crime data\n",
    "\n",
    "crime_data['DATE_OCC'] = pd.to_datetime(crime_data['DATE_OCC'])\n",
    "\n",
    "crime_data['MTH_OCC'] = crime_data['DATE_OCC'].dt.month\n",
    "crime_data['DAY_OCC'] = crime_data['DATE_OCC'].dt.day\n",
    "crime_data['YEAR_OCC'] = crime_data['DATE_OCC'].dt.year\n",
    "crime_data['WEEKDAY_OCC_ID']=crime_data['DATE_OCC'].dt.dayofweek\n",
    "crime_data.loc[:, 'WEEKDAY_OCC'] = crime_data['DATE_OCC'].dt.strftime('%A')\n"
   ]
  },
  {
   "cell_type": "code",
   "execution_count": 10,
   "id": "535e25c8",
   "metadata": {},
   "outputs": [],
   "source": [
    "# Applying the function to create the new column \"AM/PM\" to identify day or night\n",
    "\n",
    "def categorize_time(time_str):\n",
    "    hour = int(time_str[:2])\n",
    "    if 0 <= hour < 12:\n",
    "        return \"AM\"\n",
    "    else:\n",
    "        return \"PM\"\n",
    "\n",
    "def categorize_time_id(time_str):\n",
    "    hour = int(time_str[:2])\n",
    "    if 0 <= hour < 12:\n",
    "        return \"0\"\n",
    "    else:\n",
    "        return \"1\"    "
   ]
  },
  {
   "cell_type": "code",
   "execution_count": 11,
   "id": "5ef9b20f",
   "metadata": {},
   "outputs": [],
   "source": [
    "crime_data[\"TIME_OCC\"] = crime_data[\"TIME_OCC\"].astype(str)\n",
    "\n",
    "crime_data[\"TIME_OCC_TYPE_ID\"] = crime_data[\"TIME_OCC\"].apply(categorize_time_id)\n",
    "crime_data[\"TIME_OCC_TYPE\"] = crime_data[\"TIME_OCC\"].apply(categorize_time)"
   ]
  },
  {
   "cell_type": "markdown",
   "id": "8422ccdb",
   "metadata": {},
   "source": [
    "##### Remove unnesary columns.For crime data, need only location , type of crime & crime date rough timing . the rest of the columns shall be dropped."
   ]
  },
  {
   "cell_type": "code",
   "execution_count": 12,
   "id": "5437e2c8",
   "metadata": {},
   "outputs": [],
   "source": [
    "columns_to_drop_crime= ['MOCODES','DR_NO', 'CROSS_STREET','DATE_RPTD', 'PART_1_2', 'CRM_CD_1', 'CRM_CD_2', \n",
    "                        'CRM_CD_3', 'CRM_CD_4','RPT_DIST_NO','LOCATION','WEAPON_USED_CD','WEAPON_DESC',\n",
    "                       'PREMIS_DESC','PREMIS_CD', 'STATUS' ,'STATUS_DESC' ]\n",
    "crime_data.drop(columns=columns_to_drop_crime, inplace=True)"
   ]
  },
  {
   "cell_type": "markdown",
   "id": "9e15bf30",
   "metadata": {},
   "source": [
    "#####  2023 data is not for full year as year is not ended yet.  As for data consistancy, remove all 2024 crimes data.Hence, the final cleaned data range is from 2010 to 2022."
   ]
  },
  {
   "cell_type": "code",
   "execution_count": 13,
   "id": "967ad714",
   "metadata": {},
   "outputs": [],
   "source": [
    "crime_data = crime_data[crime_data['YEAR_OCC'] != 2023]"
   ]
  },
  {
   "cell_type": "markdown",
   "id": "fea6abe8",
   "metadata": {},
   "source": [
    "<b>Decode Vict  Descent Code: \n",
    "    A - Other Asian B - Black C - Chinese D - Cambodian F - Filipino G - Guamanian H - Hispanic/Latin/Mexican I - American Indian/Alaskan Native J - Japanese K - Korean L - Laotian O - Other P - Pacific Islander S - Samoan U - Hawaiian V - Vietnamese W - White X - Unknown Z - Asian Indian.\n",
    "\n",
    " </b>"
   ]
  },
  {
   "cell_type": "code",
   "execution_count": 14,
   "id": "77e8a190",
   "metadata": {},
   "outputs": [],
   "source": [
    "\n",
    "desc_mapping = {\n",
    "    'A': 'Other Asian',\n",
    "    'B': 'Black',\n",
    "    'C': 'Chinese',\n",
    "    'D': 'Cambodian',\n",
    "    'F': 'Filipino',\n",
    "    'G': 'Guamanian',\n",
    "    'H': 'Hispanic/Latin/Mexican',\n",
    "    'I': 'American Indian/Alaskan Native',\n",
    "    'J': 'Japanese',\n",
    "    'K': 'Korean',\n",
    "    'L': 'Laotian',\n",
    "    'O': 'Other',\n",
    "    'P': 'Pacific Islander',\n",
    "    'S': 'Samoan',\n",
    "    'U': 'Hawaiian',\n",
    "    'V': 'Vietnamese',\n",
    "    'W': 'White',\n",
    "    'X': 'Unknown',\n",
    "    'Z': 'Asian Indian'\n",
    "}\n",
    "\n",
    "# Decode values in the 'VIC_DESCENT' column\n",
    "crime_data['VICT_DESCENT'] = crime_data['VICT_DESCENT'].map(desc_mapping)"
   ]
  },
  {
   "cell_type": "markdown",
   "id": "e22cf26c",
   "metadata": {},
   "source": [
    "<b>Clean up Victam Age data</b>"
   ]
  },
  {
   "cell_type": "code",
   "execution_count": 15,
   "id": "6a569624",
   "metadata": {},
   "outputs": [],
   "source": [
    "crime_data['VICT_AGE'] = crime_data['VICT_AGE'].abs()"
   ]
  },
  {
   "cell_type": "markdown",
   "id": "beeab313",
   "metadata": {},
   "source": [
    "<b>Clean up Vict Sex data</b>"
   ]
  },
  {
   "cell_type": "code",
   "execution_count": 16,
   "id": "b3ff90fb",
   "metadata": {},
   "outputs": [
    {
     "name": "stdout",
     "output_type": "stream",
     "text": [
      "M          1248792\n",
      "F          1133555\n",
      "Unknown     285573\n",
      "X           111100\n",
      "H              154\n",
      "N               17\n",
      "-                1\n",
      "Name: VICT_SEX, dtype: int64\n"
     ]
    }
   ],
   "source": [
    "print(crime_data['VICT_SEX'].value_counts())"
   ]
  },
  {
   "cell_type": "code",
   "execution_count": 17,
   "id": "d9d806a2",
   "metadata": {},
   "outputs": [],
   "source": [
    "crime_data['VICT_SEX'] = crime_data['VICT_SEX'].replace({'X': 'Unknown', 'H': 'Unknown', 'N': 'Unknown', '-': 'Unknown'})"
   ]
  },
  {
   "cell_type": "code",
   "execution_count": 18,
   "id": "1783f8e4",
   "metadata": {},
   "outputs": [
    {
     "name": "stdout",
     "output_type": "stream",
     "text": [
      "M          1248792\n",
      "F          1133555\n",
      "Unknown     396845\n",
      "Name: VICT_SEX, dtype: int64\n"
     ]
    }
   ],
   "source": [
    "print(crime_data['VICT_SEX'].value_counts())"
   ]
  },
  {
   "cell_type": "markdown",
   "id": "460cdbde",
   "metadata": {},
   "source": [
    "##### Check if there is any duplicate records after removing raw data unique IDs"
   ]
  },
  {
   "cell_type": "code",
   "execution_count": 19,
   "id": "2a2028b2",
   "metadata": {},
   "outputs": [],
   "source": [
    "#Remove dupliate and keep as new cleaned dataframes\n",
    "crime_data= crime_data.drop_duplicates(keep='last')"
   ]
  },
  {
   "cell_type": "markdown",
   "id": "3de9285d",
   "metadata": {},
   "source": [
    "##### Reindex "
   ]
  },
  {
   "cell_type": "code",
   "execution_count": 20,
   "id": "99aaec6f",
   "metadata": {},
   "outputs": [],
   "source": [
    "# Sort DataFrame by date column\n",
    "# crime_data = crime_data.sort_values(by='DATE_OCC')\n",
    "\n",
    "# Reset index if needed\n",
    "crime_data = crime_data.reset_index(drop=False)"
   ]
  },
  {
   "cell_type": "code",
   "execution_count": 21,
   "id": "e7afab82",
   "metadata": {},
   "outputs": [
    {
     "name": "stdout",
     "output_type": "stream",
     "text": [
      "<class 'pandas.core.frame.DataFrame'>\n",
      "RangeIndex: 2707190 entries, 0 to 2707189\n",
      "Data columns (total 19 columns):\n",
      " #   Column            Dtype         \n",
      "---  ------            -----         \n",
      " 0   index             int64         \n",
      " 1   DATE_OCC          datetime64[ns]\n",
      " 2   TIME_OCC          object        \n",
      " 3   AREA              int64         \n",
      " 4   AREA_NAME         object        \n",
      " 5   CRM_CD            int64         \n",
      " 6   CRM_CD_DESC       object        \n",
      " 7   VICT_AGE          int64         \n",
      " 8   VICT_SEX          object        \n",
      " 9   VICT_DESCENT      object        \n",
      " 10  latitude          float64       \n",
      " 11  longitude         float64       \n",
      " 12  MTH_OCC           int64         \n",
      " 13  DAY_OCC           int64         \n",
      " 14  YEAR_OCC          int64         \n",
      " 15  WEEKDAY_OCC_ID    int64         \n",
      " 16  WEEKDAY_OCC       object        \n",
      " 17  TIME_OCC_TYPE_ID  object        \n",
      " 18  TIME_OCC_TYPE     object        \n",
      "dtypes: datetime64[ns](1), float64(2), int64(8), object(8)\n",
      "memory usage: 392.4+ MB\n"
     ]
    }
   ],
   "source": [
    "crime_data.info()"
   ]
  },
  {
   "cell_type": "markdown",
   "id": "5dbf2dc7",
   "metadata": {},
   "source": [
    "## Categorial Features"
   ]
  },
  {
   "cell_type": "code",
   "execution_count": 22,
   "id": "c30732c3",
   "metadata": {},
   "outputs": [
    {
     "data": {
      "text/html": [
       "<div>\n",
       "<style scoped>\n",
       "    .dataframe tbody tr th:only-of-type {\n",
       "        vertical-align: middle;\n",
       "    }\n",
       "\n",
       "    .dataframe tbody tr th {\n",
       "        vertical-align: top;\n",
       "    }\n",
       "\n",
       "    .dataframe thead th {\n",
       "        text-align: right;\n",
       "    }\n",
       "</style>\n",
       "<table border=\"1\" class=\"dataframe\">\n",
       "  <thead>\n",
       "    <tr style=\"text-align: right;\">\n",
       "      <th></th>\n",
       "      <th>TIME_OCC</th>\n",
       "      <th>AREA_NAME</th>\n",
       "      <th>CRM_CD_DESC</th>\n",
       "      <th>VICT_SEX</th>\n",
       "      <th>VICT_DESCENT</th>\n",
       "      <th>WEEKDAY_OCC</th>\n",
       "      <th>TIME_OCC_TYPE_ID</th>\n",
       "      <th>TIME_OCC_TYPE</th>\n",
       "    </tr>\n",
       "  </thead>\n",
       "  <tbody>\n",
       "    <tr>\n",
       "      <th>0</th>\n",
       "      <td>1350</td>\n",
       "      <td>Newton</td>\n",
       "      <td>VIOLATION OF COURT ORDER</td>\n",
       "      <td>M</td>\n",
       "      <td>Hispanic/Latin/Mexican</td>\n",
       "      <td>Saturday</td>\n",
       "      <td>1</td>\n",
       "      <td>PM</td>\n",
       "    </tr>\n",
       "    <tr>\n",
       "      <th>1</th>\n",
       "      <td>45</td>\n",
       "      <td>Pacific</td>\n",
       "      <td>VANDALISM - FELONY ($400 &amp; OVER, ALL CHURCH VA...</td>\n",
       "      <td>M</td>\n",
       "      <td>White</td>\n",
       "      <td>Sunday</td>\n",
       "      <td>1</td>\n",
       "      <td>PM</td>\n",
       "    </tr>\n",
       "    <tr>\n",
       "      <th>2</th>\n",
       "      <td>1515</td>\n",
       "      <td>Newton</td>\n",
       "      <td>OTHER MISCELLANEOUS CRIME</td>\n",
       "      <td>M</td>\n",
       "      <td>Hispanic/Latin/Mexican</td>\n",
       "      <td>Monday</td>\n",
       "      <td>1</td>\n",
       "      <td>PM</td>\n",
       "    </tr>\n",
       "    <tr>\n",
       "      <th>3</th>\n",
       "      <td>150</td>\n",
       "      <td>Hollywood</td>\n",
       "      <td>VIOLATION OF COURT ORDER</td>\n",
       "      <td>F</td>\n",
       "      <td>White</td>\n",
       "      <td>Tuesday</td>\n",
       "      <td>1</td>\n",
       "      <td>PM</td>\n",
       "    </tr>\n",
       "    <tr>\n",
       "      <th>4</th>\n",
       "      <td>2100</td>\n",
       "      <td>Central</td>\n",
       "      <td>RAPE, ATTEMPTED</td>\n",
       "      <td>F</td>\n",
       "      <td>Hispanic/Latin/Mexican</td>\n",
       "      <td>Saturday</td>\n",
       "      <td>1</td>\n",
       "      <td>PM</td>\n",
       "    </tr>\n",
       "    <tr>\n",
       "      <th>...</th>\n",
       "      <td>...</td>\n",
       "      <td>...</td>\n",
       "      <td>...</td>\n",
       "      <td>...</td>\n",
       "      <td>...</td>\n",
       "      <td>...</td>\n",
       "      <td>...</td>\n",
       "      <td>...</td>\n",
       "    </tr>\n",
       "    <tr>\n",
       "      <th>2707185</th>\n",
       "      <td>1800</td>\n",
       "      <td>West Valley</td>\n",
       "      <td>THEFT FROM MOTOR VEHICLE - GRAND ($950.01 AND ...</td>\n",
       "      <td>M</td>\n",
       "      <td>White</td>\n",
       "      <td>Thursday</td>\n",
       "      <td>1</td>\n",
       "      <td>PM</td>\n",
       "    </tr>\n",
       "    <tr>\n",
       "      <th>2707186</th>\n",
       "      <td>1530</td>\n",
       "      <td>West Valley</td>\n",
       "      <td>VEHICLE - STOLEN</td>\n",
       "      <td>Unknown</td>\n",
       "      <td>NaN</td>\n",
       "      <td>Wednesday</td>\n",
       "      <td>1</td>\n",
       "      <td>PM</td>\n",
       "    </tr>\n",
       "    <tr>\n",
       "      <th>2707187</th>\n",
       "      <td>2000</td>\n",
       "      <td>Northeast</td>\n",
       "      <td>VEHICLE - STOLEN</td>\n",
       "      <td>Unknown</td>\n",
       "      <td>NaN</td>\n",
       "      <td>Tuesday</td>\n",
       "      <td>1</td>\n",
       "      <td>PM</td>\n",
       "    </tr>\n",
       "    <tr>\n",
       "      <th>2707188</th>\n",
       "      <td>1800</td>\n",
       "      <td>Foothill</td>\n",
       "      <td>THEFT FROM MOTOR VEHICLE - GRAND ($950.01 AND ...</td>\n",
       "      <td>F</td>\n",
       "      <td>Hispanic/Latin/Mexican</td>\n",
       "      <td>Monday</td>\n",
       "      <td>1</td>\n",
       "      <td>PM</td>\n",
       "    </tr>\n",
       "    <tr>\n",
       "      <th>2707189</th>\n",
       "      <td>1300</td>\n",
       "      <td>West Valley</td>\n",
       "      <td>INTIMATE PARTNER - SIMPLE ASSAULT</td>\n",
       "      <td>M</td>\n",
       "      <td>Black</td>\n",
       "      <td>Sunday</td>\n",
       "      <td>1</td>\n",
       "      <td>PM</td>\n",
       "    </tr>\n",
       "  </tbody>\n",
       "</table>\n",
       "<p>2707190 rows × 8 columns</p>\n",
       "</div>"
      ],
      "text/plain": [
       "        TIME_OCC    AREA_NAME  \\\n",
       "0           1350       Newton   \n",
       "1             45      Pacific   \n",
       "2           1515       Newton   \n",
       "3            150    Hollywood   \n",
       "4           2100      Central   \n",
       "...          ...          ...   \n",
       "2707185     1800  West Valley   \n",
       "2707186     1530  West Valley   \n",
       "2707187     2000    Northeast   \n",
       "2707188     1800     Foothill   \n",
       "2707189     1300  West Valley   \n",
       "\n",
       "                                               CRM_CD_DESC VICT_SEX  \\\n",
       "0                                 VIOLATION OF COURT ORDER        M   \n",
       "1        VANDALISM - FELONY ($400 & OVER, ALL CHURCH VA...        M   \n",
       "2                                OTHER MISCELLANEOUS CRIME        M   \n",
       "3                                 VIOLATION OF COURT ORDER        F   \n",
       "4                                          RAPE, ATTEMPTED        F   \n",
       "...                                                    ...      ...   \n",
       "2707185  THEFT FROM MOTOR VEHICLE - GRAND ($950.01 AND ...        M   \n",
       "2707186                                   VEHICLE - STOLEN  Unknown   \n",
       "2707187                                   VEHICLE - STOLEN  Unknown   \n",
       "2707188  THEFT FROM MOTOR VEHICLE - GRAND ($950.01 AND ...        F   \n",
       "2707189                  INTIMATE PARTNER - SIMPLE ASSAULT        M   \n",
       "\n",
       "                   VICT_DESCENT WEEKDAY_OCC TIME_OCC_TYPE_ID TIME_OCC_TYPE  \n",
       "0        Hispanic/Latin/Mexican    Saturday                1            PM  \n",
       "1                         White      Sunday                1            PM  \n",
       "2        Hispanic/Latin/Mexican      Monday                1            PM  \n",
       "3                         White     Tuesday                1            PM  \n",
       "4        Hispanic/Latin/Mexican    Saturday                1            PM  \n",
       "...                         ...         ...              ...           ...  \n",
       "2707185                   White    Thursday                1            PM  \n",
       "2707186                     NaN   Wednesday                1            PM  \n",
       "2707187                     NaN     Tuesday                1            PM  \n",
       "2707188  Hispanic/Latin/Mexican      Monday                1            PM  \n",
       "2707189                   Black      Sunday                1            PM  \n",
       "\n",
       "[2707190 rows x 8 columns]"
      ]
     },
     "execution_count": 22,
     "metadata": {},
     "output_type": "execute_result"
    }
   ],
   "source": [
    "crime_data.select_dtypes('object')"
   ]
  },
  {
   "cell_type": "code",
   "execution_count": 23,
   "id": "466b1fde",
   "metadata": {},
   "outputs": [
    {
     "data": {
      "text/plain": [
       "77th Street    185323\n",
       "Southwest      170530\n",
       "Pacific        149099\n",
       "N Hollywood    145405\n",
       "Central        140069\n",
       "Southeast      133418\n",
       "Hollywood      133082\n",
       "Newton         131222\n",
       "Northeast      127625\n",
       "Van Nuys       126207\n",
       "Devonshire     120429\n",
       "Mission        119294\n",
       "Rampart        118802\n",
       "Olympic        118584\n",
       "West LA        118185\n",
       "Wilshire       118181\n",
       "Harbor         118118\n",
       "West Valley    115948\n",
       "Topanga        114804\n",
       "Hollenbeck     101779\n",
       "Foothill       101086\n",
       "Name: AREA_NAME, dtype: int64"
      ]
     },
     "execution_count": 23,
     "metadata": {},
     "output_type": "execute_result"
    }
   ],
   "source": [
    "#Lets emphasize on Location ( Area and City) from both datasets\n",
    "crime_data['AREA_NAME'].value_counts()"
   ]
  },
  {
   "cell_type": "markdown",
   "id": "bb53aa37",
   "metadata": {},
   "source": [
    "## Review distribution"
   ]
  },
  {
   "cell_type": "code",
   "execution_count": 24,
   "id": "2945b90c",
   "metadata": {
    "scrolled": true
   },
   "outputs": [
    {
     "data": {
      "image/png": "[encoded data removed]",
      "text/plain": [
       "<Figure size 1080x720 with 12 Axes>"
      ]
     },
     "metadata": {
      "needs_background": "light"
     },
     "output_type": "display_data"
    }
   ],
   "source": [
    "crime_data.hist(figsize=(15, 10))\n",
    "plt.subplots_adjust(hspace=0.5);"
   ]
  },
  {
   "cell_type": "markdown",
   "id": "3b89d385",
   "metadata": {},
   "source": [
    "## Distribution Features"
   ]
  },
  {
   "cell_type": "markdown",
   "id": "e63664bc",
   "metadata": {},
   "source": [
    "#### Distribution Of Cimes By Area"
   ]
  },
  {
   "cell_type": "code",
   "execution_count": 25,
   "id": "68cd4b58",
   "metadata": {
    "scrolled": true
   },
   "outputs": [
    {
     "data": {
      "image/png": "[encoded data removed]",
      "text/plain": [
       "<Figure size 432x288 with 1 Axes>"
      ]
     },
     "metadata": {
      "needs_background": "light"
     },
     "output_type": "display_data"
    }
   ],
   "source": [
    "crime_data['AREA_NAME'].value_counts().plot(kind='bar')\n",
    "plt.xlabel('Neigbourhood Name')\n",
    "plt.ylabel('Count')\n",
    "plt.show()"
   ]
  },
  {
   "cell_type": "markdown",
   "id": "a08f6123",
   "metadata": {},
   "source": [
    "#### Distribution Of Crimes by Crime Description"
   ]
  },
  {
   "cell_type": "code",
   "execution_count": 26,
   "id": "15440472",
   "metadata": {},
   "outputs": [
    {
     "data": {
      "text/plain": [
       "BATTERY - SIMPLE ASSAULT                                   236262\n",
       "VEHICLE - STOLEN                                           223696\n",
       "BURGLARY FROM VEHICLE                                      199956\n",
       "BURGLARY                                                   182891\n",
       "THEFT PLAIN - PETTY ($950 & UNDER)                         180188\n",
       "                                                            ...  \n",
       "TILL TAP - ATTEMPT                                              4\n",
       "FIREARMS EMERGENCY PROTECTIVE ORDER (FIREARMS EPO)              4\n",
       "TRAIN WRECKING                                                  2\n",
       "FIREARMS TEMPORARY RESTRAINING ORDER (TEMP FIREARMS RO)         1\n",
       "DRUNK ROLL - ATTEMPT                                            1\n",
       "Name: CRM_CD_DESC, Length: 143, dtype: int64"
      ]
     },
     "execution_count": 26,
     "metadata": {},
     "output_type": "execute_result"
    }
   ],
   "source": [
    "crime_data['CRM_CD_DESC'].value_counts()"
   ]
  },
  {
   "cell_type": "code",
   "execution_count": 27,
   "id": "bdc3faeb",
   "metadata": {},
   "outputs": [
    {
     "data": {
      "image/png": "[encoded data removed]",
      "text/plain": [
       "<Figure size 720x576 with 1 Axes>"
      ]
     },
     "metadata": {
      "needs_background": "light"
     },
     "output_type": "display_data"
    }
   ],
   "source": [
    "# Get the top 30 crime categories by value counts\n",
    "top_30_crimes = crime_data['CRM_CD_DESC'].value_counts().head(30)\n",
    "\n",
    "# Create the bar graph\n",
    "plt.figure(figsize=(10, 8))  # Adjust the figure size if needed\n",
    "top_30_crimes.plot(kind='barh')\n",
    "plt.xlabel('Count')\n",
    "plt.ylabel('Crime Category')\n",
    "plt.title('Top 30 Crime Categories')\n",
    "plt.gca().invert_yaxis()  # Invert the y-axis to show the most frequent crimes at the top\n",
    "plt.show()"
   ]
  },
  {
   "cell_type": "code",
   "execution_count": 28,
   "id": "a114d1d7",
   "metadata": {
    "scrolled": false
   },
   "outputs": [
    {
     "data": {
      "image/png": "[encoded data removed]",
      "text/plain": [
       "<Figure size 720x576 with 1 Axes>"
      ]
     },
     "metadata": {
      "needs_background": "light"
     },
     "output_type": "display_data"
    }
   ],
   "source": [
    "# Get the least crime categories by value counts\n",
    "least_20_crimes = crime_data['CRM_CD_DESC'].value_counts().tail(20)\n",
    "\n",
    "# Create the bar graph\n",
    "plt.figure(figsize=(10, 8))  # Adjust the figure size if needed\n",
    "least_20_crimes.plot(kind='barh')\n",
    "plt.xlabel('Count')\n",
    "plt.ylabel('Crime Category')\n",
    "plt.title('Least 20 Crime Categories')\n",
    "plt.gca().invert_yaxis()  # Invert the y-axis to show the most frequent crimes at the top\n",
    "plt.show()"
   ]
  },
  {
   "cell_type": "markdown",
   "id": "87e26b03",
   "metadata": {},
   "source": [
    "#### Crime occurance frequency by Area & Type (2010 to Sep 2023)"
   ]
  },
  {
   "cell_type": "code",
   "execution_count": 29,
   "id": "38e7e2c0",
   "metadata": {
    "scrolled": false
   },
   "outputs": [
    {
     "name": "stdout",
     "output_type": "stream",
     "text": [
      "     AREA_NAME                                     CRM_CD_DESC  CRIME_COUNT\n",
      "0  77th Street                                           ARSON          494\n",
      "1  77th Street    ASSAULT WITH DEADLY WEAPON ON POLICE OFFICER          166\n",
      "2  77th Street  ASSAULT WITH DEADLY WEAPON, AGGRAVATED ASSAULT        15699\n",
      "3  77th Street                               ATTEMPTED ROBBERY         1672\n",
      "4  77th Street                        BATTERY - SIMPLE ASSAULT        18007\n",
      "              count         mean          std  min   25%   50%     75%  \\\n",
      "CRIME_COUNT  2674.0  1012.412117  2462.045847  1.0  12.0  80.0  461.75   \n",
      "\n",
      "                 max  \n",
      "CRIME_COUNT  19276.0  \n"
     ]
    }
   ],
   "source": [
    "#Code task 14#\n",
    "# Calculate  count of crime type by area sort by the average of the two\n",
    "\n",
    "crime_area_type_count = crime_data.groupby(['AREA_NAME', 'CRM_CD_DESC']).size().reset_index(name='CRIME_COUNT')\n",
    "sorted_crime_area_type_count = crime_area_type_count.sort_values(by='CRIME_COUNT', ascending=False)\n",
    "print(crime_area_type_count.head(5))\n",
    "print(crime_area_type_count.describe().T)"
   ]
  },
  {
   "cell_type": "markdown",
   "id": "96d1431b",
   "metadata": {},
   "source": [
    "#### Data Distrubution based on occurance date"
   ]
  },
  {
   "cell_type": "markdown",
   "id": "297a1977",
   "metadata": {},
   "source": [
    "2023 is not ended yet, so data on 2023 figure is not reliable. However, 2022 is the highest crime rate."
   ]
  },
  {
   "cell_type": "code",
   "execution_count": 30,
   "id": "053d36ed",
   "metadata": {
    "scrolled": false
   },
   "outputs": [
    {
     "name": "stdout",
     "output_type": "stream",
     "text": [
      "   YEAR_OCC  CRIME_COUNT\n",
      "0      2010       208324\n",
      "1      2011       199914\n",
      "2      2012       200976\n",
      "3      2013       192052\n",
      "4      2014       148745\n",
      "             count           mean           std       min       25%       50%  \\\n",
      "YEAR_OCC      13.0    2016.000000      3.894440    2010.0    2013.0    2016.0   \n",
      "CRIME_COUNT   13.0  208245.384615  22339.017061  148745.0  199914.0  208441.0   \n",
      "\n",
      "                  75%       max  \n",
      "YEAR_OCC       2019.0    2022.0  \n",
      "CRIME_COUNT  225020.0  233284.0  \n"
     ]
    },
    {
     "data": {
      "image/png": "[encoded data removed]",
      "text/plain": [
       "<Figure size 432x288 with 1 Axes>"
      ]
     },
     "metadata": {
      "needs_background": "light"
     },
     "output_type": "display_data"
    }
   ],
   "source": [
    "crime_count_by_occ = crime_data.groupby(['YEAR_OCC']).size().reset_index(name='CRIME_COUNT')\n",
    "print(crime_count_by_occ.head(5))\n",
    "print(crime_count_by_occ.describe().T)\n",
    "\n",
    "\n",
    "# Create a bar plot\n",
    "plt.bar(crime_count_by_occ['YEAR_OCC'], crime_count_by_occ['CRIME_COUNT'])\n",
    "plt.xlabel('Year')\n",
    "plt.ylabel('Count of occurrence')\n",
    "plt.title('Yearly crime count')\n",
    "#plt.xticks(rotation=45)  # Rotate the x-axis labels for better readability if needed\n",
    "plt.show()\n"
   ]
  },
  {
   "cell_type": "markdown",
   "id": "66f4e732",
   "metadata": {},
   "source": [
    "##### What day of the week is the highest crime occurance ?"
   ]
  },
  {
   "cell_type": "markdown",
   "id": "3e6ff3b9",
   "metadata": {},
   "source": [
    "Friday is the highest occurance of crimes.However,the rest of the days are relatively similar in volumns. There is the significant difference."
   ]
  },
  {
   "cell_type": "code",
   "execution_count": 31,
   "id": "f9a2e787",
   "metadata": {},
   "outputs": [
    {
     "name": "stdout",
     "output_type": "stream",
     "text": [
      "  WEEKDAY_OCC  CRIME_COUNT\n",
      "0      Friday       415950\n",
      "1      Monday       385303\n",
      "2    Saturday       390957\n",
      "3      Sunday       373695\n",
      "4    Thursday       381652\n",
      "5     Tuesday       377555\n",
      "6   Wednesday       382078\n",
      "             count           mean           std       min       25%       50%  \\\n",
      "CRIME_COUNT    7.0  386741.428571  13995.418189  373695.0  379603.5  382078.0   \n",
      "\n",
      "                  75%       max  \n",
      "CRIME_COUNT  388130.0  415950.0  \n"
     ]
    },
    {
     "data": {
      "image/png": "[encoded data removed]",
      "text/plain": [
       "<Figure size 432x288 with 1 Axes>"
      ]
     },
     "metadata": {
      "needs_background": "light"
     },
     "output_type": "display_data"
    }
   ],
   "source": [
    "\n",
    "crime_count_by_weekday = crime_data.groupby(['WEEKDAY_OCC']).size().reset_index(name='CRIME_COUNT')\n",
    "print(crime_count_by_weekday.head(7))\n",
    "print(crime_count_by_weekday.describe().T)\n",
    "\n",
    "\n",
    "# Create a bar plot\n",
    "plt.bar(crime_count_by_weekday['WEEKDAY_OCC'], crime_count_by_weekday['CRIME_COUNT'])\n",
    "plt.xlabel('Day of the Week')\n",
    "plt.ylabel('Count of occurrence')\n",
    "plt.title('What day of the week is the highest crime occurance ?')\n",
    "#plt.xticks(rotation=45)  # Rotate the x-axis labels for better readability if needed\n",
    "plt.show()\n"
   ]
  },
  {
   "cell_type": "markdown",
   "id": "a7c4b05d",
   "metadata": {},
   "source": [
    "## Save data for stastical data exploration( EDA)"
   ]
  },
  {
   "cell_type": "code",
   "execution_count": 32,
   "id": "723a9a23",
   "metadata": {},
   "outputs": [
    {
     "data": {
      "text/plain": [
       "(2707190, 19)"
      ]
     },
     "execution_count": 32,
     "metadata": {},
     "output_type": "execute_result"
    }
   ],
   "source": [
    "crime_data.shape"
   ]
  },
  {
   "cell_type": "code",
   "execution_count": 33,
   "id": "d4c32a01",
   "metadata": {},
   "outputs": [],
   "source": [
    "# Specify the file path where you want to save the CSV file\n",
    "file_path = \"../data/interim/\" + \"cleaned_crime_data.csv\"\n",
    "\n",
    "# Save the DataFrame to a CSV file\n",
    "crime_data.to_csv(file_path, index=False)  # Set index=False to exclude the DataFrame index in the CSV file"
   ]
  },
  {
   "cell_type": "code",
   "execution_count": null,
   "id": "b75d3b54",
   "metadata": {},
   "outputs": [],
   "source": []
  },
  {
   "cell_type": "code",
   "execution_count": null,
   "id": "9791652e",
   "metadata": {},
   "outputs": [],
   "source": []
  },
  {
   "cell_type": "code",
   "execution_count": null,
   "id": "1883fb96",
   "metadata": {},
   "outputs": [],
   "source": []
  },
  {
   "cell_type": "code",
   "execution_count": null,
   "id": "2ad8d8d1",
   "metadata": {},
   "outputs": [],
   "source": []
  }
 ],
 "metadata": {
  "kernelspec": {
   "display_name": "Python 3 (ipykernel)",
   "language": "python",
   "name": "python3"
  },
  "language_info": {
   "codemirror_mode": {
    "name": "ipython",
    "version": 3
   },
   "file_extension": ".py",
   "mimetype": "text/x-python",
   "name": "python",
   "nbconvert_exporter": "python",
   "pygments_lexer": "ipython3",
   "version": "3.9.7"
  }
 },
 "nbformat": 4,
 "nbformat_minor": 5
}
